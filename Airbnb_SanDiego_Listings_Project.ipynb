{
 "cells": [
  {
   "cell_type": "markdown",
   "id": "715f3018",
   "metadata": {},
   "source": [
    "<h1><center><font color='navy'>Predictive Analytics and Regression Models<br>Airbnb Listings | San Diego (California)</font></center></h1>"
   ]
  },
  {
   "cell_type": "markdown",
   "id": "874b7499",
   "metadata": {},
   "source": [
    "<blockquote><h3><i>The ultimate goal of the project is to predict the Airbnb price listings (July 2021) from San Diego City, using information from the available variables in the database. \n",
    "The methodology will follow an exploratory standard analysis and the construction of predictive models evaluated by their performance metrics.</i></h3></blockquote>"
   ]
  },
  {
   "cell_type": "markdown",
   "id": "39000ef9",
   "metadata": {},
   "source": [
    "## Libraries"
   ]
  },
  {
   "cell_type": "code",
   "execution_count": 4,
   "id": "7b1d7151",
   "metadata": {},
   "outputs": [],
   "source": [
    "import numpy as np\n",
    "import pandas as pd\n",
    "import seaborn as sns\n",
    "import seaborn.matrix as smatrix\n",
    "import matplotlib.pyplot as plt\n",
    "\n",
    "from sklearn.linear_model import LinearRegression\n",
    "from sklearn.metrics import mean_squared_error, mean_absolute_error, mean_absolute_percentage_error\n",
    "from sklearn.ensemble import RandomForestRegressor"
   ]
  },
  {
   "cell_type": "markdown",
   "id": "1cf55a4b",
   "metadata": {},
   "source": [
    "## Data Loading "
   ]
  },
  {
   "cell_type": "code",
   "execution_count": 8,
   "id": "d0827207",
   "metadata": {},
   "outputs": [],
   "source": [
    "# Read a CSV File\n",
    "df = pd.read_csv('listings.csv')"
   ]
  },
  {
   "cell_type": "code",
   "execution_count": 9,
   "id": "7c23a911",
   "metadata": {},
   "outputs": [
    {
     "data": {
      "text/plain": [
       "(9099, 74)"
      ]
     },
     "execution_count": 9,
     "metadata": {},
     "output_type": "execute_result"
    }
   ],
   "source": [
    "# The Data Framework\n",
    "df.shape"
   ]
  },
  {
   "cell_type": "code",
   "execution_count": 10,
   "id": "9faef85f",
   "metadata": {
    "scrolled": false
   },
   "outputs": [
    {
     "data": {
      "text/html": [
       "<div>\n",
       "<style scoped>\n",
       "    .dataframe tbody tr th:only-of-type {\n",
       "        vertical-align: middle;\n",
       "    }\n",
       "\n",
       "    .dataframe tbody tr th {\n",
       "        vertical-align: top;\n",
       "    }\n",
       "\n",
       "    .dataframe thead th {\n",
       "        text-align: right;\n",
       "    }\n",
       "</style>\n",
       "<table border=\"1\" class=\"dataframe\">\n",
       "  <thead>\n",
       "    <tr style=\"text-align: right;\">\n",
       "      <th></th>\n",
       "      <th>id</th>\n",
       "      <th>listing_url</th>\n",
       "      <th>scrape_id</th>\n",
       "      <th>last_scraped</th>\n",
       "      <th>name</th>\n",
       "      <th>description</th>\n",
       "      <th>neighborhood_overview</th>\n",
       "      <th>picture_url</th>\n",
       "      <th>host_id</th>\n",
       "      <th>host_url</th>\n",
       "      <th>...</th>\n",
       "      <th>review_scores_communication</th>\n",
       "      <th>review_scores_location</th>\n",
       "      <th>review_scores_value</th>\n",
       "      <th>license</th>\n",
       "      <th>instant_bookable</th>\n",
       "      <th>calculated_host_listings_count</th>\n",
       "      <th>calculated_host_listings_count_entire_homes</th>\n",
       "      <th>calculated_host_listings_count_private_rooms</th>\n",
       "      <th>calculated_host_listings_count_shared_rooms</th>\n",
       "      <th>reviews_per_month</th>\n",
       "    </tr>\n",
       "  </thead>\n",
       "  <tbody>\n",
       "    <tr>\n",
       "      <th>0</th>\n",
       "      <td>5570</td>\n",
       "      <td>https://www.airbnb.com/rooms/5570</td>\n",
       "      <td>20210714194825</td>\n",
       "      <td>2021-07-14</td>\n",
       "      <td>Ocean front condo on the sand</td>\n",
       "      <td>Missionbeachretreat.   Great Ocean Front Condo...</td>\n",
       "      <td>While some may compare San Diego’s Mission Bea...</td>\n",
       "      <td>https://a0.muscache.com/pictures/d3342744-140a...</td>\n",
       "      <td>8435</td>\n",
       "      <td>https://www.airbnb.com/users/show/8435</td>\n",
       "      <td>...</td>\n",
       "      <td>NaN</td>\n",
       "      <td>NaN</td>\n",
       "      <td>NaN</td>\n",
       "      <td>NaN</td>\n",
       "      <td>f</td>\n",
       "      <td>3</td>\n",
       "      <td>3</td>\n",
       "      <td>0</td>\n",
       "      <td>0</td>\n",
       "      <td>NaN</td>\n",
       "    </tr>\n",
       "    <tr>\n",
       "      <th>1</th>\n",
       "      <td>29967</td>\n",
       "      <td>https://www.airbnb.com/rooms/29967</td>\n",
       "      <td>20210714194825</td>\n",
       "      <td>2021-07-14</td>\n",
       "      <td>Great home, 10 min walk to Beach</td>\n",
       "      <td>This 2 bedroom, 2 full bathroom home offers al...</td>\n",
       "      <td>NaN</td>\n",
       "      <td>https://a0.muscache.com/pictures/76103867/c9b5...</td>\n",
       "      <td>129123</td>\n",
       "      <td>https://www.airbnb.com/users/show/129123</td>\n",
       "      <td>...</td>\n",
       "      <td>4.92</td>\n",
       "      <td>4.85</td>\n",
       "      <td>4.81</td>\n",
       "      <td>NaN</td>\n",
       "      <td>f</td>\n",
       "      <td>5</td>\n",
       "      <td>5</td>\n",
       "      <td>0</td>\n",
       "      <td>0</td>\n",
       "      <td>0.49</td>\n",
       "    </tr>\n",
       "  </tbody>\n",
       "</table>\n",
       "<p>2 rows × 74 columns</p>\n",
       "</div>"
      ],
      "text/plain": [
       "      id                         listing_url       scrape_id last_scraped  \\\n",
       "0   5570   https://www.airbnb.com/rooms/5570  20210714194825   2021-07-14   \n",
       "1  29967  https://www.airbnb.com/rooms/29967  20210714194825   2021-07-14   \n",
       "\n",
       "                               name  \\\n",
       "0     Ocean front condo on the sand   \n",
       "1  Great home, 10 min walk to Beach   \n",
       "\n",
       "                                         description  \\\n",
       "0  Missionbeachretreat.   Great Ocean Front Condo...   \n",
       "1  This 2 bedroom, 2 full bathroom home offers al...   \n",
       "\n",
       "                               neighborhood_overview  \\\n",
       "0  While some may compare San Diego’s Mission Bea...   \n",
       "1                                                NaN   \n",
       "\n",
       "                                         picture_url  host_id  \\\n",
       "0  https://a0.muscache.com/pictures/d3342744-140a...     8435   \n",
       "1  https://a0.muscache.com/pictures/76103867/c9b5...   129123   \n",
       "\n",
       "                                   host_url  ... review_scores_communication  \\\n",
       "0    https://www.airbnb.com/users/show/8435  ...                         NaN   \n",
       "1  https://www.airbnb.com/users/show/129123  ...                        4.92   \n",
       "\n",
       "  review_scores_location review_scores_value license instant_bookable  \\\n",
       "0                    NaN                 NaN     NaN                f   \n",
       "1                   4.85                4.81     NaN                f   \n",
       "\n",
       "  calculated_host_listings_count calculated_host_listings_count_entire_homes  \\\n",
       "0                              3                                           3   \n",
       "1                              5                                           5   \n",
       "\n",
       "  calculated_host_listings_count_private_rooms  \\\n",
       "0                                            0   \n",
       "1                                            0   \n",
       "\n",
       "  calculated_host_listings_count_shared_rooms reviews_per_month  \n",
       "0                                           0               NaN  \n",
       "1                                           0              0.49  \n",
       "\n",
       "[2 rows x 74 columns]"
      ]
     },
     "execution_count": 10,
     "metadata": {},
     "output_type": "execute_result"
    }
   ],
   "source": [
    "# Finding the Right Data\n",
    "df.head(2)"
   ]
  },
  {
   "cell_type": "code",
   "execution_count": 11,
   "id": "e18c083d",
   "metadata": {
    "scrolled": true
   },
   "outputs": [
    {
     "name": "stdout",
     "output_type": "stream",
     "text": [
      "<class 'pandas.core.frame.DataFrame'>\n",
      "RangeIndex: 9099 entries, 0 to 9098\n",
      "Data columns (total 74 columns):\n",
      " #   Column                                        Non-Null Count  Dtype  \n",
      "---  ------                                        --------------  -----  \n",
      " 0   id                                            9099 non-null   int64  \n",
      " 1   listing_url                                   9099 non-null   object \n",
      " 2   scrape_id                                     9099 non-null   int64  \n",
      " 3   last_scraped                                  9099 non-null   object \n",
      " 4   name                                          9099 non-null   object \n",
      " 5   description                                   8962 non-null   object \n",
      " 6   neighborhood_overview                         6557 non-null   object \n",
      " 7   picture_url                                   9099 non-null   object \n",
      " 8   host_id                                       9099 non-null   int64  \n",
      " 9   host_url                                      9099 non-null   object \n",
      " 10  host_name                                     9095 non-null   object \n",
      " 11  host_since                                    9095 non-null   object \n",
      " 12  host_location                                 9084 non-null   object \n",
      " 13  host_about                                    6278 non-null   object \n",
      " 14  host_response_time                            8378 non-null   object \n",
      " 15  host_response_rate                            8378 non-null   object \n",
      " 16  host_acceptance_rate                          8442 non-null   object \n",
      " 17  host_is_superhost                             9095 non-null   object \n",
      " 18  host_thumbnail_url                            9095 non-null   object \n",
      " 19  host_picture_url                              9095 non-null   object \n",
      " 20  host_neighbourhood                            8357 non-null   object \n",
      " 21  host_listings_count                           9095 non-null   float64\n",
      " 22  host_total_listings_count                     9095 non-null   float64\n",
      " 23  host_verifications                            9099 non-null   object \n",
      " 24  host_has_profile_pic                          9095 non-null   object \n",
      " 25  host_identity_verified                        9095 non-null   object \n",
      " 26  neighbourhood                                 6557 non-null   object \n",
      " 27  neighbourhood_cleansed                        9099 non-null   object \n",
      " 28  neighbourhood_group_cleansed                  0 non-null      float64\n",
      " 29  latitude                                      9099 non-null   float64\n",
      " 30  longitude                                     9099 non-null   float64\n",
      " 31  property_type                                 9099 non-null   object \n",
      " 32  room_type                                     9099 non-null   object \n",
      " 33  accommodates                                  9099 non-null   int64  \n",
      " 34  bathrooms                                     0 non-null      float64\n",
      " 35  bathrooms_text                                9096 non-null   object \n",
      " 36  bedrooms                                      8167 non-null   float64\n",
      " 37  beds                                          8966 non-null   float64\n",
      " 38  amenities                                     9099 non-null   object \n",
      " 39  price                                         9099 non-null   object \n",
      " 40  minimum_nights                                9099 non-null   int64  \n",
      " 41  maximum_nights                                9099 non-null   int64  \n",
      " 42  minimum_minimum_nights                        9099 non-null   int64  \n",
      " 43  maximum_minimum_nights                        9099 non-null   int64  \n",
      " 44  minimum_maximum_nights                        9099 non-null   int64  \n",
      " 45  maximum_maximum_nights                        9099 non-null   int64  \n",
      " 46  minimum_nights_avg_ntm                        9099 non-null   float64\n",
      " 47  maximum_nights_avg_ntm                        9099 non-null   float64\n",
      " 48  calendar_updated                              0 non-null      float64\n",
      " 49  has_availability                              9099 non-null   object \n",
      " 50  availability_30                               9099 non-null   int64  \n",
      " 51  availability_60                               9099 non-null   int64  \n",
      " 52  availability_90                               9099 non-null   int64  \n",
      " 53  availability_365                              9099 non-null   int64  \n",
      " 54  calendar_last_scraped                         9099 non-null   object \n",
      " 55  number_of_reviews                             9099 non-null   int64  \n",
      " 56  number_of_reviews_ltm                         9099 non-null   int64  \n",
      " 57  number_of_reviews_l30d                        9099 non-null   int64  \n",
      " 58  first_review                                  7899 non-null   object \n",
      " 59  last_review                                   7899 non-null   object \n",
      " 60  review_scores_rating                          7899 non-null   float64\n",
      " 61  review_scores_accuracy                        7867 non-null   float64\n",
      " 62  review_scores_cleanliness                     7867 non-null   float64\n",
      " 63  review_scores_checkin                         7866 non-null   float64\n",
      " 64  review_scores_communication                   7867 non-null   float64\n",
      " 65  review_scores_location                        7866 non-null   float64\n",
      " 66  review_scores_value                           7866 non-null   float64\n",
      " 67  license                                       0 non-null      float64\n",
      " 68  instant_bookable                              9099 non-null   object \n",
      " 69  calculated_host_listings_count                9099 non-null   int64  \n",
      " 70  calculated_host_listings_count_entire_homes   9099 non-null   int64  \n",
      " 71  calculated_host_listings_count_private_rooms  9099 non-null   int64  \n",
      " 72  calculated_host_listings_count_shared_rooms   9099 non-null   int64  \n",
      " 73  reviews_per_month                             7899 non-null   float64\n",
      "dtypes: float64(20), int64(21), object(33)\n",
      "memory usage: 5.1+ MB\n"
     ]
    }
   ],
   "source": [
    "# Dataframe info\n",
    "df.info()"
   ]
  },
  {
   "cell_type": "markdown",
   "id": "9ffe344a",
   "metadata": {},
   "source": [
    "## Data Cleaning and Preparation"
   ]
  },
  {
   "cell_type": "code",
   "execution_count": 87,
   "id": "81f7fabb",
   "metadata": {},
   "outputs": [],
   "source": [
    "# Dropping values\n",
    "df_SD=df.drop(['id','listing_url', 'scrape_id', 'last_scraped','description','neighborhood_overview',\n",
    "         'picture_url','host_id','host_url','host_location','host_about','host_response_time',\n",
    "         'host_acceptance_rate','host_thumbnail_url','host_picture_url','host_neighbourhood',\n",
    "         'host_listings_count','host_verifications','neighbourhood','property_type',\n",
    "         'bathrooms','amenities','maximum_nights','minimum_minimum_nights','maximum_minimum_nights',\n",
    "         'minimum_maximum_nights','maximum_maximum_nights','minimum_nights_avg_ntm',\n",
    "         'maximum_nights_avg_ntm','calendar_updated','has_availability','availability_30',\n",
    "         'availability_60','availability_90','calendar_last_scraped','number_of_reviews_ltm',\n",
    "         'number_of_reviews_l30d','first_review','last_review','review_scores_accuracy',\n",
    "         'review_scores_cleanliness','review_scores_checkin','review_scores_communication',\n",
    "         'review_scores_value','license','calculated_host_listings_count_entire_homes',\n",
    "         'calculated_host_listings_count_private_rooms','calculated_host_listings_count_shared_rooms','neighbourhood_group_cleansed'], axis=1)"
   ]
  },
  {
   "cell_type": "code",
   "execution_count": 88,
   "id": "90107800",
   "metadata": {},
   "outputs": [],
   "source": [
    "# Removing the ‘$’|‘,’ from Price Column\n",
    "df_SD['price'] = df_SD['price'].str.replace(',', '',regex=True)\n",
    "df_SD['price'] = df_SD['price'].str.replace('$','',regex=True)"
   ]
  },
  {
   "cell_type": "code",
   "execution_count": 89,
   "id": "73fd8bd2",
   "metadata": {},
   "outputs": [],
   "source": [
    "# Converting DataTypes\n",
    "df_SD['price'] = df_SD['price'].astype(float)"
   ]
  },
  {
   "cell_type": "code",
   "execution_count": 90,
   "id": "76aec0ef",
   "metadata": {
    "scrolled": true
   },
   "outputs": [
    {
     "data": {
      "text/html": [
       "<div>\n",
       "<style scoped>\n",
       "    .dataframe tbody tr th:only-of-type {\n",
       "        vertical-align: middle;\n",
       "    }\n",
       "\n",
       "    .dataframe tbody tr th {\n",
       "        vertical-align: top;\n",
       "    }\n",
       "\n",
       "    .dataframe thead th {\n",
       "        text-align: right;\n",
       "    }\n",
       "</style>\n",
       "<table border=\"1\" class=\"dataframe\">\n",
       "  <thead>\n",
       "    <tr style=\"text-align: right;\">\n",
       "      <th></th>\n",
       "      <th>% Missing Values</th>\n",
       "    </tr>\n",
       "  </thead>\n",
       "  <tbody>\n",
       "    <tr>\n",
       "      <th>name</th>\n",
       "      <td>0.000000</td>\n",
       "    </tr>\n",
       "    <tr>\n",
       "      <th>host_name</th>\n",
       "      <td>0.043961</td>\n",
       "    </tr>\n",
       "    <tr>\n",
       "      <th>host_since</th>\n",
       "      <td>0.043961</td>\n",
       "    </tr>\n",
       "    <tr>\n",
       "      <th>host_response_rate</th>\n",
       "      <td>7.923948</td>\n",
       "    </tr>\n",
       "    <tr>\n",
       "      <th>host_is_superhost</th>\n",
       "      <td>0.043961</td>\n",
       "    </tr>\n",
       "    <tr>\n",
       "      <th>host_total_listings_count</th>\n",
       "      <td>0.043961</td>\n",
       "    </tr>\n",
       "    <tr>\n",
       "      <th>host_has_profile_pic</th>\n",
       "      <td>0.043961</td>\n",
       "    </tr>\n",
       "    <tr>\n",
       "      <th>host_identity_verified</th>\n",
       "      <td>0.043961</td>\n",
       "    </tr>\n",
       "    <tr>\n",
       "      <th>neighbourhood_cleansed</th>\n",
       "      <td>0.000000</td>\n",
       "    </tr>\n",
       "    <tr>\n",
       "      <th>latitude</th>\n",
       "      <td>0.000000</td>\n",
       "    </tr>\n",
       "    <tr>\n",
       "      <th>longitude</th>\n",
       "      <td>0.000000</td>\n",
       "    </tr>\n",
       "    <tr>\n",
       "      <th>room_type</th>\n",
       "      <td>0.000000</td>\n",
       "    </tr>\n",
       "    <tr>\n",
       "      <th>accommodates</th>\n",
       "      <td>0.000000</td>\n",
       "    </tr>\n",
       "    <tr>\n",
       "      <th>bathrooms_text</th>\n",
       "      <td>0.032971</td>\n",
       "    </tr>\n",
       "    <tr>\n",
       "      <th>bedrooms</th>\n",
       "      <td>10.242884</td>\n",
       "    </tr>\n",
       "    <tr>\n",
       "      <th>beds</th>\n",
       "      <td>1.461699</td>\n",
       "    </tr>\n",
       "    <tr>\n",
       "      <th>price</th>\n",
       "      <td>0.000000</td>\n",
       "    </tr>\n",
       "    <tr>\n",
       "      <th>minimum_nights</th>\n",
       "      <td>0.000000</td>\n",
       "    </tr>\n",
       "    <tr>\n",
       "      <th>availability_365</th>\n",
       "      <td>0.000000</td>\n",
       "    </tr>\n",
       "    <tr>\n",
       "      <th>number_of_reviews</th>\n",
       "      <td>0.000000</td>\n",
       "    </tr>\n",
       "    <tr>\n",
       "      <th>review_scores_rating</th>\n",
       "      <td>13.188262</td>\n",
       "    </tr>\n",
       "    <tr>\n",
       "      <th>review_scores_location</th>\n",
       "      <td>13.550940</td>\n",
       "    </tr>\n",
       "    <tr>\n",
       "      <th>instant_bookable</th>\n",
       "      <td>0.000000</td>\n",
       "    </tr>\n",
       "    <tr>\n",
       "      <th>calculated_host_listings_count</th>\n",
       "      <td>0.000000</td>\n",
       "    </tr>\n",
       "    <tr>\n",
       "      <th>reviews_per_month</th>\n",
       "      <td>13.188262</td>\n",
       "    </tr>\n",
       "  </tbody>\n",
       "</table>\n",
       "</div>"
      ],
      "text/plain": [
       "                                % Missing Values\n",
       "name                                    0.000000\n",
       "host_name                               0.043961\n",
       "host_since                              0.043961\n",
       "host_response_rate                      7.923948\n",
       "host_is_superhost                       0.043961\n",
       "host_total_listings_count               0.043961\n",
       "host_has_profile_pic                    0.043961\n",
       "host_identity_verified                  0.043961\n",
       "neighbourhood_cleansed                  0.000000\n",
       "latitude                                0.000000\n",
       "longitude                               0.000000\n",
       "room_type                               0.000000\n",
       "accommodates                            0.000000\n",
       "bathrooms_text                          0.032971\n",
       "bedrooms                               10.242884\n",
       "beds                                    1.461699\n",
       "price                                   0.000000\n",
       "minimum_nights                          0.000000\n",
       "availability_365                        0.000000\n",
       "number_of_reviews                       0.000000\n",
       "review_scores_rating                   13.188262\n",
       "review_scores_location                 13.550940\n",
       "instant_bookable                        0.000000\n",
       "calculated_host_listings_count          0.000000\n",
       "reviews_per_month                      13.188262"
      ]
     },
     "execution_count": 90,
     "metadata": {},
     "output_type": "execute_result"
    }
   ],
   "source": [
    "# Missing Data\n",
    "missing = df_SD.isna().sum()\n",
    "missing /= df_SD.shape[0]\n",
    "missing *=100\n",
    "missing = missing.to_frame().rename(columns={0:'% Missing Values'})\n",
    "missing"
   ]
  },
  {
   "cell_type": "markdown",
   "id": "a1b45f0a",
   "metadata": {},
   "source": [
    "#### Operating on Null Values"
   ]
  },
  {
   "cell_type": "code",
   "execution_count": 138,
   "id": "4f2e41fb",
   "metadata": {},
   "outputs": [],
   "source": [
    "#Handling Missing Data in all the variables that have NaN values "
   ]
  },
  {
   "cell_type": "code",
   "execution_count": 176,
   "id": "fd4f3db6",
   "metadata": {},
   "outputs": [],
   "source": [
    "dfSD=df_SD.dropna()"
   ]
  },
  {
   "cell_type": "code",
   "execution_count": 177,
   "id": "4377ba49",
   "metadata": {},
   "outputs": [
    {
     "data": {
      "text/html": [
       "<div>\n",
       "<style scoped>\n",
       "    .dataframe tbody tr th:only-of-type {\n",
       "        vertical-align: middle;\n",
       "    }\n",
       "\n",
       "    .dataframe tbody tr th {\n",
       "        vertical-align: top;\n",
       "    }\n",
       "\n",
       "    .dataframe thead th {\n",
       "        text-align: right;\n",
       "    }\n",
       "</style>\n",
       "<table border=\"1\" class=\"dataframe\">\n",
       "  <thead>\n",
       "    <tr style=\"text-align: right;\">\n",
       "      <th></th>\n",
       "      <th>% Missing Values</th>\n",
       "    </tr>\n",
       "  </thead>\n",
       "  <tbody>\n",
       "    <tr>\n",
       "      <th>name</th>\n",
       "      <td>0.0</td>\n",
       "    </tr>\n",
       "    <tr>\n",
       "      <th>host_name</th>\n",
       "      <td>0.0</td>\n",
       "    </tr>\n",
       "    <tr>\n",
       "      <th>host_since</th>\n",
       "      <td>0.0</td>\n",
       "    </tr>\n",
       "    <tr>\n",
       "      <th>host_response_rate</th>\n",
       "      <td>0.0</td>\n",
       "    </tr>\n",
       "    <tr>\n",
       "      <th>host_is_superhost</th>\n",
       "      <td>0.0</td>\n",
       "    </tr>\n",
       "    <tr>\n",
       "      <th>host_total_listings_count</th>\n",
       "      <td>0.0</td>\n",
       "    </tr>\n",
       "    <tr>\n",
       "      <th>host_has_profile_pic</th>\n",
       "      <td>0.0</td>\n",
       "    </tr>\n",
       "    <tr>\n",
       "      <th>host_identity_verified</th>\n",
       "      <td>0.0</td>\n",
       "    </tr>\n",
       "    <tr>\n",
       "      <th>neighbourhood_cleansed</th>\n",
       "      <td>0.0</td>\n",
       "    </tr>\n",
       "    <tr>\n",
       "      <th>latitude</th>\n",
       "      <td>0.0</td>\n",
       "    </tr>\n",
       "    <tr>\n",
       "      <th>longitude</th>\n",
       "      <td>0.0</td>\n",
       "    </tr>\n",
       "    <tr>\n",
       "      <th>room_type</th>\n",
       "      <td>0.0</td>\n",
       "    </tr>\n",
       "    <tr>\n",
       "      <th>accommodates</th>\n",
       "      <td>0.0</td>\n",
       "    </tr>\n",
       "    <tr>\n",
       "      <th>bathrooms_text</th>\n",
       "      <td>0.0</td>\n",
       "    </tr>\n",
       "    <tr>\n",
       "      <th>bedrooms</th>\n",
       "      <td>0.0</td>\n",
       "    </tr>\n",
       "    <tr>\n",
       "      <th>beds</th>\n",
       "      <td>0.0</td>\n",
       "    </tr>\n",
       "    <tr>\n",
       "      <th>price</th>\n",
       "      <td>0.0</td>\n",
       "    </tr>\n",
       "    <tr>\n",
       "      <th>minimum_nights</th>\n",
       "      <td>0.0</td>\n",
       "    </tr>\n",
       "    <tr>\n",
       "      <th>availability_365</th>\n",
       "      <td>0.0</td>\n",
       "    </tr>\n",
       "    <tr>\n",
       "      <th>number_of_reviews</th>\n",
       "      <td>0.0</td>\n",
       "    </tr>\n",
       "    <tr>\n",
       "      <th>review_scores_rating</th>\n",
       "      <td>0.0</td>\n",
       "    </tr>\n",
       "    <tr>\n",
       "      <th>review_scores_location</th>\n",
       "      <td>0.0</td>\n",
       "    </tr>\n",
       "    <tr>\n",
       "      <th>instant_bookable</th>\n",
       "      <td>0.0</td>\n",
       "    </tr>\n",
       "    <tr>\n",
       "      <th>calculated_host_listings_count</th>\n",
       "      <td>0.0</td>\n",
       "    </tr>\n",
       "    <tr>\n",
       "      <th>reviews_per_month</th>\n",
       "      <td>0.0</td>\n",
       "    </tr>\n",
       "  </tbody>\n",
       "</table>\n",
       "</div>"
      ],
      "text/plain": [
       "                                % Missing Values\n",
       "name                                         0.0\n",
       "host_name                                    0.0\n",
       "host_since                                   0.0\n",
       "host_response_rate                           0.0\n",
       "host_is_superhost                            0.0\n",
       "host_total_listings_count                    0.0\n",
       "host_has_profile_pic                         0.0\n",
       "host_identity_verified                       0.0\n",
       "neighbourhood_cleansed                       0.0\n",
       "latitude                                     0.0\n",
       "longitude                                    0.0\n",
       "room_type                                    0.0\n",
       "accommodates                                 0.0\n",
       "bathrooms_text                               0.0\n",
       "bedrooms                                     0.0\n",
       "beds                                         0.0\n",
       "price                                        0.0\n",
       "minimum_nights                               0.0\n",
       "availability_365                             0.0\n",
       "number_of_reviews                            0.0\n",
       "review_scores_rating                         0.0\n",
       "review_scores_location                       0.0\n",
       "instant_bookable                             0.0\n",
       "calculated_host_listings_count               0.0\n",
       "reviews_per_month                            0.0"
      ]
     },
     "execution_count": 177,
     "metadata": {},
     "output_type": "execute_result"
    }
   ],
   "source": [
    "# Missing Data for dfSD (Check)\n",
    "missing = dfSD.isna().sum()\n",
    "missing /= dfSD.shape[0]\n",
    "missing *=100\n",
    "missing = missing.to_frame().rename(columns={0:'% Missing Values'})\n",
    "missing"
   ]
  },
  {
   "cell_type": "code",
   "execution_count": 178,
   "id": "13a5840a",
   "metadata": {},
   "outputs": [],
   "source": [
    "#Training and Testing Data\n",
    "msk = np.random.rand(len(dfSD)) <= 0.8\n",
    "train = dfSD[msk]\n",
    "test = dfSD[~msk]\n",
    "train.to_csv('df_train.csv', index=False)\n",
    "test.to_csv('df_test.csv', index=False)"
   ]
  },
  {
   "cell_type": "code",
   "execution_count": 5,
   "id": "2f269022",
   "metadata": {},
   "outputs": [],
   "source": [
    "# Importing Dataset\n",
    "df_train = pd.read_csv('df_train.csv')\n",
    "df_test = pd.read_csv('df_test.csv')"
   ]
  },
  {
   "cell_type": "markdown",
   "id": "fd3d42ba",
   "metadata": {},
   "source": [
    "## Exploratory Data Analysis"
   ]
  },
  {
   "cell_type": "code",
   "execution_count": 6,
   "id": "c3a2bb63",
   "metadata": {},
   "outputs": [
    {
     "data": {
      "text/plain": [
       "(5231, 25)"
      ]
     },
     "execution_count": 6,
     "metadata": {},
     "output_type": "execute_result"
    }
   ],
   "source": [
    "# Data Training (Rows, Columns)\n",
    "df_train.shape"
   ]
  },
  {
   "cell_type": "code",
   "execution_count": 11,
   "id": "f4944c01",
   "metadata": {
    "scrolled": true
   },
   "outputs": [
    {
     "data": {
      "text/html": [
       "<div>\n",
       "<style scoped>\n",
       "    .dataframe tbody tr th:only-of-type {\n",
       "        vertical-align: middle;\n",
       "    }\n",
       "\n",
       "    .dataframe tbody tr th {\n",
       "        vertical-align: top;\n",
       "    }\n",
       "\n",
       "    .dataframe thead th {\n",
       "        text-align: right;\n",
       "    }\n",
       "</style>\n",
       "<table border=\"1\" class=\"dataframe\">\n",
       "  <thead>\n",
       "    <tr style=\"text-align: right;\">\n",
       "      <th></th>\n",
       "      <th>host_total_listings_count</th>\n",
       "      <th>latitude</th>\n",
       "      <th>longitude</th>\n",
       "      <th>accommodates</th>\n",
       "      <th>bedrooms</th>\n",
       "      <th>beds</th>\n",
       "      <th>price</th>\n",
       "      <th>minimum_nights</th>\n",
       "      <th>availability_365</th>\n",
       "      <th>number_of_reviews</th>\n",
       "      <th>review_scores_rating</th>\n",
       "      <th>review_scores_location</th>\n",
       "      <th>calculated_host_listings_count</th>\n",
       "      <th>reviews_per_month</th>\n",
       "    </tr>\n",
       "  </thead>\n",
       "  <tbody>\n",
       "    <tr>\n",
       "      <th>count</th>\n",
       "      <td>5231.000000</td>\n",
       "      <td>5231.000000</td>\n",
       "      <td>5231.000000</td>\n",
       "      <td>5231.000000</td>\n",
       "      <td>5231.000000</td>\n",
       "      <td>5231.000000</td>\n",
       "      <td>5231.000000</td>\n",
       "      <td>5231.000000</td>\n",
       "      <td>5231.000000</td>\n",
       "      <td>5231.000000</td>\n",
       "      <td>5231.000000</td>\n",
       "      <td>5231.000000</td>\n",
       "      <td>5231.000000</td>\n",
       "      <td>5231.000000</td>\n",
       "    </tr>\n",
       "    <tr>\n",
       "      <th>mean</th>\n",
       "      <td>31.327853</td>\n",
       "      <td>32.770793</td>\n",
       "      <td>-117.190713</td>\n",
       "      <td>5.147391</td>\n",
       "      <td>1.956031</td>\n",
       "      <td>2.792200</td>\n",
       "      <td>333.563563</td>\n",
       "      <td>4.959855</td>\n",
       "      <td>183.938826</td>\n",
       "      <td>57.927930</td>\n",
       "      <td>4.749925</td>\n",
       "      <td>4.847584</td>\n",
       "      <td>16.991397</td>\n",
       "      <td>3.123766</td>\n",
       "    </tr>\n",
       "    <tr>\n",
       "      <th>std</th>\n",
       "      <td>92.824727</td>\n",
       "      <td>0.061045</td>\n",
       "      <td>0.064331</td>\n",
       "      <td>3.227907</td>\n",
       "      <td>1.186757</td>\n",
       "      <td>2.111025</td>\n",
       "      <td>381.966839</td>\n",
       "      <td>11.577056</td>\n",
       "      <td>114.014528</td>\n",
       "      <td>82.705206</td>\n",
       "      <td>0.372877</td>\n",
       "      <td>0.316876</td>\n",
       "      <td>36.596447</td>\n",
       "      <td>5.985677</td>\n",
       "    </tr>\n",
       "    <tr>\n",
       "      <th>min</th>\n",
       "      <td>0.000000</td>\n",
       "      <td>32.533780</td>\n",
       "      <td>-117.281440</td>\n",
       "      <td>1.000000</td>\n",
       "      <td>1.000000</td>\n",
       "      <td>0.000000</td>\n",
       "      <td>10.000000</td>\n",
       "      <td>1.000000</td>\n",
       "      <td>0.000000</td>\n",
       "      <td>1.000000</td>\n",
       "      <td>1.000000</td>\n",
       "      <td>1.000000</td>\n",
       "      <td>1.000000</td>\n",
       "      <td>0.010000</td>\n",
       "    </tr>\n",
       "    <tr>\n",
       "      <th>25%</th>\n",
       "      <td>1.000000</td>\n",
       "      <td>32.736420</td>\n",
       "      <td>-117.251340</td>\n",
       "      <td>2.000000</td>\n",
       "      <td>1.000000</td>\n",
       "      <td>1.000000</td>\n",
       "      <td>124.000000</td>\n",
       "      <td>1.000000</td>\n",
       "      <td>74.000000</td>\n",
       "      <td>7.000000</td>\n",
       "      <td>4.670000</td>\n",
       "      <td>4.830000</td>\n",
       "      <td>1.000000</td>\n",
       "      <td>0.580000</td>\n",
       "    </tr>\n",
       "    <tr>\n",
       "      <th>50%</th>\n",
       "      <td>3.000000</td>\n",
       "      <td>32.764030</td>\n",
       "      <td>-117.196000</td>\n",
       "      <td>4.000000</td>\n",
       "      <td>2.000000</td>\n",
       "      <td>2.000000</td>\n",
       "      <td>220.000000</td>\n",
       "      <td>2.000000</td>\n",
       "      <td>177.000000</td>\n",
       "      <td>25.000000</td>\n",
       "      <td>4.850000</td>\n",
       "      <td>4.930000</td>\n",
       "      <td>3.000000</td>\n",
       "      <td>1.710000</td>\n",
       "    </tr>\n",
       "    <tr>\n",
       "      <th>75%</th>\n",
       "      <td>16.000000</td>\n",
       "      <td>32.798335</td>\n",
       "      <td>-117.147590</td>\n",
       "      <td>6.000000</td>\n",
       "      <td>3.000000</td>\n",
       "      <td>4.000000</td>\n",
       "      <td>408.000000</td>\n",
       "      <td>3.000000</td>\n",
       "      <td>296.000000</td>\n",
       "      <td>76.000000</td>\n",
       "      <td>4.970000</td>\n",
       "      <td>5.000000</td>\n",
       "      <td>13.000000</td>\n",
       "      <td>3.675000</td>\n",
       "    </tr>\n",
       "    <tr>\n",
       "      <th>max</th>\n",
       "      <td>1827.000000</td>\n",
       "      <td>33.101790</td>\n",
       "      <td>-116.936350</td>\n",
       "      <td>16.000000</td>\n",
       "      <td>12.000000</td>\n",
       "      <td>22.000000</td>\n",
       "      <td>10000.000000</td>\n",
       "      <td>365.000000</td>\n",
       "      <td>365.000000</td>\n",
       "      <td>818.000000</td>\n",
       "      <td>5.000000</td>\n",
       "      <td>5.000000</td>\n",
       "      <td>190.000000</td>\n",
       "      <td>117.000000</td>\n",
       "    </tr>\n",
       "  </tbody>\n",
       "</table>\n",
       "</div>"
      ],
      "text/plain": [
       "       host_total_listings_count     latitude    longitude  accommodates  \\\n",
       "count                5231.000000  5231.000000  5231.000000   5231.000000   \n",
       "mean                   31.327853    32.770793  -117.190713      5.147391   \n",
       "std                    92.824727     0.061045     0.064331      3.227907   \n",
       "min                     0.000000    32.533780  -117.281440      1.000000   \n",
       "25%                     1.000000    32.736420  -117.251340      2.000000   \n",
       "50%                     3.000000    32.764030  -117.196000      4.000000   \n",
       "75%                    16.000000    32.798335  -117.147590      6.000000   \n",
       "max                  1827.000000    33.101790  -116.936350     16.000000   \n",
       "\n",
       "          bedrooms         beds         price  minimum_nights  \\\n",
       "count  5231.000000  5231.000000   5231.000000     5231.000000   \n",
       "mean      1.956031     2.792200    333.563563        4.959855   \n",
       "std       1.186757     2.111025    381.966839       11.577056   \n",
       "min       1.000000     0.000000     10.000000        1.000000   \n",
       "25%       1.000000     1.000000    124.000000        1.000000   \n",
       "50%       2.000000     2.000000    220.000000        2.000000   \n",
       "75%       3.000000     4.000000    408.000000        3.000000   \n",
       "max      12.000000    22.000000  10000.000000      365.000000   \n",
       "\n",
       "       availability_365  number_of_reviews  review_scores_rating  \\\n",
       "count       5231.000000        5231.000000           5231.000000   \n",
       "mean         183.938826          57.927930              4.749925   \n",
       "std          114.014528          82.705206              0.372877   \n",
       "min            0.000000           1.000000              1.000000   \n",
       "25%           74.000000           7.000000              4.670000   \n",
       "50%          177.000000          25.000000              4.850000   \n",
       "75%          296.000000          76.000000              4.970000   \n",
       "max          365.000000         818.000000              5.000000   \n",
       "\n",
       "       review_scores_location  calculated_host_listings_count  \\\n",
       "count             5231.000000                     5231.000000   \n",
       "mean                 4.847584                       16.991397   \n",
       "std                  0.316876                       36.596447   \n",
       "min                  1.000000                        1.000000   \n",
       "25%                  4.830000                        1.000000   \n",
       "50%                  4.930000                        3.000000   \n",
       "75%                  5.000000                       13.000000   \n",
       "max                  5.000000                      190.000000   \n",
       "\n",
       "       reviews_per_month  \n",
       "count        5231.000000  \n",
       "mean            3.123766  \n",
       "std             5.985677  \n",
       "min             0.010000  \n",
       "25%             0.580000  \n",
       "50%             1.710000  \n",
       "75%             3.675000  \n",
       "max           117.000000  "
      ]
     },
     "execution_count": 11,
     "metadata": {},
     "output_type": "execute_result"
    }
   ],
   "source": [
    "#Descriptive Statistics\n",
    "df_train.describe()"
   ]
  },
  {
   "cell_type": "markdown",
   "id": "2f3abf87",
   "metadata": {
    "scrolled": false
   },
   "source": [
    "### Group the data to find which variables seem to be good at explaining the price"
   ]
  },
  {
   "cell_type": "code",
   "execution_count": 12,
   "id": "7d628d11",
   "metadata": {
    "scrolled": false
   },
   "outputs": [
    {
     "data": {
      "text/html": [
       "<div>\n",
       "<style scoped>\n",
       "    .dataframe tbody tr th:only-of-type {\n",
       "        vertical-align: middle;\n",
       "    }\n",
       "\n",
       "    .dataframe tbody tr th {\n",
       "        vertical-align: top;\n",
       "    }\n",
       "\n",
       "    .dataframe thead th {\n",
       "        text-align: right;\n",
       "    }\n",
       "</style>\n",
       "<table border=\"1\" class=\"dataframe\">\n",
       "  <thead>\n",
       "    <tr style=\"text-align: right;\">\n",
       "      <th></th>\n",
       "      <th>price</th>\n",
       "      <th>review_scores_rating</th>\n",
       "      <th>reviews_per_month</th>\n",
       "    </tr>\n",
       "    <tr>\n",
       "      <th>room_type</th>\n",
       "      <th></th>\n",
       "      <th></th>\n",
       "      <th></th>\n",
       "    </tr>\n",
       "  </thead>\n",
       "  <tbody>\n",
       "    <tr>\n",
       "      <th>Entire home/apt</th>\n",
       "      <td>386.080565</td>\n",
       "      <td>4.756379</td>\n",
       "      <td>3.232928</td>\n",
       "    </tr>\n",
       "    <tr>\n",
       "      <th>Hotel room</th>\n",
       "      <td>134.166667</td>\n",
       "      <td>4.610000</td>\n",
       "      <td>3.800000</td>\n",
       "    </tr>\n",
       "    <tr>\n",
       "      <th>Private room</th>\n",
       "      <td>108.817691</td>\n",
       "      <td>4.728619</td>\n",
       "      <td>2.689655</td>\n",
       "    </tr>\n",
       "    <tr>\n",
       "      <th>Shared room</th>\n",
       "      <td>80.754717</td>\n",
       "      <td>4.621509</td>\n",
       "      <td>1.896792</td>\n",
       "    </tr>\n",
       "  </tbody>\n",
       "</table>\n",
       "</div>"
      ],
      "text/plain": [
       "                      price  review_scores_rating  reviews_per_month\n",
       "room_type                                                           \n",
       "Entire home/apt  386.080565              4.756379           3.232928\n",
       "Hotel room       134.166667              4.610000           3.800000\n",
       "Private room     108.817691              4.728619           2.689655\n",
       "Shared room       80.754717              4.621509           1.896792"
      ]
     },
     "execution_count": 12,
     "metadata": {},
     "output_type": "execute_result"
    }
   ],
   "source": [
    "# Group by Room Type\n",
    "df_train.groupby(['room_type']).agg({'price': 'mean','review_scores_rating':'mean','reviews_per_month':'mean'})"
   ]
  },
  {
   "cell_type": "code",
   "execution_count": 13,
   "id": "a2b777a6",
   "metadata": {
    "scrolled": false
   },
   "outputs": [
    {
     "data": {
      "text/html": [
       "<div>\n",
       "<style scoped>\n",
       "    .dataframe tbody tr th:only-of-type {\n",
       "        vertical-align: middle;\n",
       "    }\n",
       "\n",
       "    .dataframe tbody tr th {\n",
       "        vertical-align: top;\n",
       "    }\n",
       "\n",
       "    .dataframe thead th {\n",
       "        text-align: right;\n",
       "    }\n",
       "</style>\n",
       "<table border=\"1\" class=\"dataframe\">\n",
       "  <thead>\n",
       "    <tr style=\"text-align: right;\">\n",
       "      <th></th>\n",
       "      <th>price</th>\n",
       "      <th>review_scores_rating</th>\n",
       "      <th>reviews_per_month</th>\n",
       "    </tr>\n",
       "    <tr>\n",
       "      <th>instant_bookable</th>\n",
       "      <th></th>\n",
       "      <th></th>\n",
       "      <th></th>\n",
       "    </tr>\n",
       "  </thead>\n",
       "  <tbody>\n",
       "    <tr>\n",
       "      <th>f</th>\n",
       "      <td>320.352582</td>\n",
       "      <td>4.791756</td>\n",
       "      <td>2.635143</td>\n",
       "    </tr>\n",
       "    <tr>\n",
       "      <th>t</th>\n",
       "      <td>350.569742</td>\n",
       "      <td>4.696078</td>\n",
       "      <td>3.752759</td>\n",
       "    </tr>\n",
       "  </tbody>\n",
       "</table>\n",
       "</div>"
      ],
      "text/plain": [
       "                       price  review_scores_rating  reviews_per_month\n",
       "instant_bookable                                                     \n",
       "f                 320.352582              4.791756           2.635143\n",
       "t                 350.569742              4.696078           3.752759"
      ]
     },
     "execution_count": 13,
     "metadata": {},
     "output_type": "execute_result"
    }
   ],
   "source": [
    "# Group by Instant Bookable\n",
    "df_train.groupby(['instant_bookable']).agg({'price': 'mean','review_scores_rating': 'mean','reviews_per_month':'mean'})"
   ]
  },
  {
   "cell_type": "code",
   "execution_count": 14,
   "id": "35ecd31a",
   "metadata": {
    "scrolled": true
   },
   "outputs": [
    {
     "data": {
      "text/html": [
       "<div>\n",
       "<style scoped>\n",
       "    .dataframe tbody tr th:only-of-type {\n",
       "        vertical-align: middle;\n",
       "    }\n",
       "\n",
       "    .dataframe tbody tr th {\n",
       "        vertical-align: top;\n",
       "    }\n",
       "\n",
       "    .dataframe thead th {\n",
       "        text-align: right;\n",
       "    }\n",
       "</style>\n",
       "<table border=\"1\" class=\"dataframe\">\n",
       "  <thead>\n",
       "    <tr style=\"text-align: right;\">\n",
       "      <th></th>\n",
       "      <th>price</th>\n",
       "      <th>accommodates</th>\n",
       "      <th>bedrooms</th>\n",
       "      <th>beds</th>\n",
       "      <th>review_scores_rating</th>\n",
       "      <th>reviews_per_month</th>\n",
       "    </tr>\n",
       "    <tr>\n",
       "      <th>host_is_superhost</th>\n",
       "      <th></th>\n",
       "      <th></th>\n",
       "      <th></th>\n",
       "      <th></th>\n",
       "      <th></th>\n",
       "      <th></th>\n",
       "    </tr>\n",
       "  </thead>\n",
       "  <tbody>\n",
       "    <tr>\n",
       "      <th>f</th>\n",
       "      <td>341.582232</td>\n",
       "      <td>5.341043</td>\n",
       "      <td>2.004038</td>\n",
       "      <td>2.891336</td>\n",
       "      <td>4.637775</td>\n",
       "      <td>2.417996</td>\n",
       "    </tr>\n",
       "    <tr>\n",
       "      <th>t</th>\n",
       "      <td>324.850818</td>\n",
       "      <td>4.936976</td>\n",
       "      <td>1.903869</td>\n",
       "      <td>2.684483</td>\n",
       "      <td>4.871783</td>\n",
       "      <td>3.890626</td>\n",
       "    </tr>\n",
       "  </tbody>\n",
       "</table>\n",
       "</div>"
      ],
      "text/plain": [
       "                        price  accommodates  bedrooms      beds  \\\n",
       "host_is_superhost                                                 \n",
       "f                  341.582232      5.341043  2.004038  2.891336   \n",
       "t                  324.850818      4.936976  1.903869  2.684483   \n",
       "\n",
       "                   review_scores_rating  reviews_per_month  \n",
       "host_is_superhost                                           \n",
       "f                              4.637775           2.417996  \n",
       "t                              4.871783           3.890626  "
      ]
     },
     "execution_count": 14,
     "metadata": {},
     "output_type": "execute_result"
    }
   ],
   "source": [
    "# Group by Superhost\n",
    "df_train.groupby(['host_is_superhost']).agg({'price': 'mean','accommodates':'mean','bedrooms':'mean', 'beds':'mean','review_scores_rating': 'mean','reviews_per_month':'mean'})"
   ]
  },
  {
   "cell_type": "markdown",
   "id": "b9de9165",
   "metadata": {},
   "source": [
    "### Visualizing Data"
   ]
  },
  {
   "cell_type": "code",
   "execution_count": 15,
   "id": "7243ea8a",
   "metadata": {
    "scrolled": false
   },
   "outputs": [
    {
     "data": {
      "text/plain": [
       "(0.0, 1000.0)"
      ]
     },
     "execution_count": 15,
     "metadata": {},
     "output_type": "execute_result"
    },
    {
     "data": {
      "image/png": "[encoded data removed]",
      "text/plain": [
       "<Figure size 540x360 with 1 Axes>"
      ]
     },
     "metadata": {
      "needs_background": "light"
     },
     "output_type": "display_data"
    }
   ],
   "source": [
    "# Distribution of Price\n",
    "sns.displot(\n",
    "  df_train,\n",
    "  x=\"price\",\n",
    "  aspect=1.5,\n",
    ")\n",
    "plt.xlim(0, 1000)"
   ]
  },
  {
   "cell_type": "code",
   "execution_count": 18,
   "id": "f1fb69a5",
   "metadata": {
    "scrolled": true
   },
   "outputs": [
    {
     "data": {
      "text/plain": [
       "Text(0.5, 1.0, 'Density of prices - room type')"
      ]
     },
     "execution_count": 18,
     "metadata": {},
     "output_type": "execute_result"
    },
    {
     "data": {
      "image/png": "[encoded data removed]",
      "text/plain": [
       "<Figure size 432x288 with 1 Axes>"
      ]
     },
     "metadata": {
      "needs_background": "light"
     },
     "output_type": "display_data"
    }
   ],
   "source": [
    "#Density and distribution of prices by room type\n",
    "df600=df_train[df_train.price < 600]\n",
    "viz=sns.violinplot(data=df600, x='room_type', y='price')\n",
    "viz.set_title('Density of prices - room type')"
   ]
  },
  {
   "cell_type": "code",
   "execution_count": 22,
   "id": "84ff0918",
   "metadata": {},
   "outputs": [
    {
     "data": {
      "image/png": "[encoded data removed]",
      "text/plain": [
       "<Figure size 720x720 with 2 Axes>"
      ]
     },
     "metadata": {
      "needs_background": "light"
     },
     "output_type": "display_data"
    }
   ],
   "source": [
    "#Price Visualization\n",
    "import numpy as np\n",
    "import matplotlib.image as mpimg\n",
    "california_img=mpimg.imread('San_diego_region.png')\n",
    "ax = df600.plot(kind=\"scatter\", x=\"longitude\", y=\"latitude\", figsize=(10,10),\n",
    "                       c=\"price\", cmap=plt.get_cmap(\"jet\"),\n",
    "                       colorbar=True, alpha=0.4,\n",
    "                      )\n",
    "plt.imshow(california_img, extent=[-117.34,-116.93, 32.54,33.12], alpha=0.3)\n",
    "plt.show()"
   ]
  },
  {
   "cell_type": "markdown",
   "id": "770d9c77",
   "metadata": {},
   "source": [
    "### Encoding Categorical Values (Room Type)"
   ]
  },
  {
   "cell_type": "code",
   "execution_count": 20,
   "id": "8b5b846b",
   "metadata": {},
   "outputs": [],
   "source": [
    "# Find and Replace for df_train\n",
    "cleanup_nums = {\"room_type\":     {\"Entire home/apt\": 4, \"Hotel room\": 3,\"Private room\": 2,\"Shared room\":1},\n",
    "                }"
   ]
  },
  {
   "cell_type": "code",
   "execution_count": 21,
   "id": "cf3a1ff9",
   "metadata": {
    "scrolled": true
   },
   "outputs": [],
   "source": [
    "dftrain= df_train.replace(cleanup_nums) "
   ]
  },
  {
   "cell_type": "code",
   "execution_count": 22,
   "id": "827bebe9",
   "metadata": {},
   "outputs": [],
   "source": [
    "# Find and Replace for df_test useful for Regression Models section\n",
    "cleanup_nums_df_test = {\"room_type\":     {\"Entire home/apt\": 4, \"Hotel room\": 3,\"Private room\": 2,\"Shared room\":1},\n",
    "                }"
   ]
  },
  {
   "cell_type": "code",
   "execution_count": 23,
   "id": "62d87ffe",
   "metadata": {},
   "outputs": [],
   "source": [
    "dftest= df_test.replace(cleanup_nums_df_test) "
   ]
  },
  {
   "cell_type": "code",
   "execution_count": 24,
   "id": "637f10dc",
   "metadata": {},
   "outputs": [],
   "source": [
    "# Modified Dataset  \n",
    "dftrain.to_csv('dftrain.csv', index=False)\n",
    "dftest.to_csv('dftest.csv', index=False)"
   ]
  },
  {
   "cell_type": "code",
   "execution_count": 25,
   "id": "40e25c86",
   "metadata": {},
   "outputs": [],
   "source": [
    "dftrain = pd.read_csv('dftrain.csv')\n",
    "dftest = pd.read_csv('dftest.csv')"
   ]
  },
  {
   "cell_type": "markdown",
   "id": "92064c6a",
   "metadata": {},
   "source": [
    "### Scatter Plots "
   ]
  },
  {
   "cell_type": "code",
   "execution_count": 26,
   "id": "4c48cf6f",
   "metadata": {
    "scrolled": true
   },
   "outputs": [
    {
     "data": {
      "text/plain": [
       "<seaborn.axisgrid.PairGrid at 0x228712a1e50>"
      ]
     },
     "execution_count": 26,
     "metadata": {},
     "output_type": "execute_result"
    },
    {
     "data": {
      "image/png": "[encoded data removed]",
      "text/plain": [
       "<Figure size 540x180 with 3 Axes>"
      ]
     },
     "metadata": {
      "needs_background": "light"
     },
     "output_type": "display_data"
    },
    {
     "data": {
      "image/png": "[encoded data removed]",
      "text/plain": [
       "<Figure size 540x180 with 3 Axes>"
      ]
     },
     "metadata": {
      "needs_background": "light"
     },
     "output_type": "display_data"
    }
   ],
   "source": [
    "sns.pairplot(dftrain,x_vars=['accommodates','bedrooms','beds'],y_vars=['price'],kind='reg',plot_kws={'line_kws':{'color':'red'}})\n",
    "sns.pairplot(dftrain,x_vars=['review_scores_location','room_type','calculated_host_listings_count'],y_vars=['price'],kind='reg',plot_kws={'line_kws':{'color':'red'}})"
   ]
  },
  {
   "cell_type": "markdown",
   "id": "db7b1c80",
   "metadata": {},
   "source": [
    "### Correlation Matrix"
   ]
  },
  {
   "cell_type": "code",
   "execution_count": 27,
   "id": "062e95aa",
   "metadata": {
    "scrolled": true
   },
   "outputs": [
    {
     "data": {
      "text/html": [
       "<div>\n",
       "<style scoped>\n",
       "    .dataframe tbody tr th:only-of-type {\n",
       "        vertical-align: middle;\n",
       "    }\n",
       "\n",
       "    .dataframe tbody tr th {\n",
       "        vertical-align: top;\n",
       "    }\n",
       "\n",
       "    .dataframe thead th {\n",
       "        text-align: right;\n",
       "    }\n",
       "</style>\n",
       "<table border=\"1\" class=\"dataframe\">\n",
       "  <thead>\n",
       "    <tr style=\"text-align: right;\">\n",
       "      <th></th>\n",
       "      <th>host_total_listings_count</th>\n",
       "      <th>latitude</th>\n",
       "      <th>longitude</th>\n",
       "      <th>room_type</th>\n",
       "      <th>accommodates</th>\n",
       "      <th>bedrooms</th>\n",
       "      <th>beds</th>\n",
       "      <th>price</th>\n",
       "      <th>minimum_nights</th>\n",
       "      <th>availability_365</th>\n",
       "      <th>number_of_reviews</th>\n",
       "      <th>review_scores_rating</th>\n",
       "      <th>review_scores_location</th>\n",
       "      <th>calculated_host_listings_count</th>\n",
       "      <th>reviews_per_month</th>\n",
       "    </tr>\n",
       "  </thead>\n",
       "  <tbody>\n",
       "    <tr>\n",
       "      <th>host_total_listings_count</th>\n",
       "      <td>1.000000</td>\n",
       "      <td>0.064070</td>\n",
       "      <td>-0.158572</td>\n",
       "      <td>0.133908</td>\n",
       "      <td>0.149539</td>\n",
       "      <td>0.133831</td>\n",
       "      <td>0.134744</td>\n",
       "      <td>0.128218</td>\n",
       "      <td>-0.068090</td>\n",
       "      <td>0.097294</td>\n",
       "      <td>-0.137352</td>\n",
       "      <td>-0.122511</td>\n",
       "      <td>-0.024212</td>\n",
       "      <td>0.625182</td>\n",
       "      <td>-0.066718</td>\n",
       "    </tr>\n",
       "    <tr>\n",
       "      <th>latitude</th>\n",
       "      <td>0.064070</td>\n",
       "      <td>1.000000</td>\n",
       "      <td>-0.434009</td>\n",
       "      <td>-0.059086</td>\n",
       "      <td>0.015132</td>\n",
       "      <td>0.091719</td>\n",
       "      <td>0.044395</td>\n",
       "      <td>0.115390</td>\n",
       "      <td>0.031524</td>\n",
       "      <td>0.041981</td>\n",
       "      <td>-0.083415</td>\n",
       "      <td>0.034949</td>\n",
       "      <td>0.099352</td>\n",
       "      <td>0.071037</td>\n",
       "      <td>-0.072133</td>\n",
       "    </tr>\n",
       "    <tr>\n",
       "      <th>longitude</th>\n",
       "      <td>-0.158572</td>\n",
       "      <td>-0.434009</td>\n",
       "      <td>1.000000</td>\n",
       "      <td>-0.227047</td>\n",
       "      <td>-0.204721</td>\n",
       "      <td>-0.198624</td>\n",
       "      <td>-0.206596</td>\n",
       "      <td>-0.311167</td>\n",
       "      <td>0.067838</td>\n",
       "      <td>-0.087748</td>\n",
       "      <td>0.030793</td>\n",
       "      <td>0.012697</td>\n",
       "      <td>-0.181366</td>\n",
       "      <td>-0.285317</td>\n",
       "      <td>0.062811</td>\n",
       "    </tr>\n",
       "    <tr>\n",
       "      <th>room_type</th>\n",
       "      <td>0.133908</td>\n",
       "      <td>-0.059086</td>\n",
       "      <td>-0.227047</td>\n",
       "      <td>1.000000</td>\n",
       "      <td>0.448663</td>\n",
       "      <td>0.356317</td>\n",
       "      <td>0.353522</td>\n",
       "      <td>0.283903</td>\n",
       "      <td>-0.000431</td>\n",
       "      <td>0.023682</td>\n",
       "      <td>0.003176</td>\n",
       "      <td>0.038575</td>\n",
       "      <td>0.095516</td>\n",
       "      <td>0.168995</td>\n",
       "      <td>0.039387</td>\n",
       "    </tr>\n",
       "    <tr>\n",
       "      <th>accommodates</th>\n",
       "      <td>0.149539</td>\n",
       "      <td>0.015132</td>\n",
       "      <td>-0.204721</td>\n",
       "      <td>0.448663</td>\n",
       "      <td>1.000000</td>\n",
       "      <td>0.845026</td>\n",
       "      <td>0.852040</td>\n",
       "      <td>0.614798</td>\n",
       "      <td>-0.113276</td>\n",
       "      <td>0.083271</td>\n",
       "      <td>-0.135153</td>\n",
       "      <td>-0.044649</td>\n",
       "      <td>0.025911</td>\n",
       "      <td>0.238870</td>\n",
       "      <td>-0.029231</td>\n",
       "    </tr>\n",
       "    <tr>\n",
       "      <th>bedrooms</th>\n",
       "      <td>0.133831</td>\n",
       "      <td>0.091719</td>\n",
       "      <td>-0.198624</td>\n",
       "      <td>0.356317</td>\n",
       "      <td>0.845026</td>\n",
       "      <td>1.000000</td>\n",
       "      <td>0.814741</td>\n",
       "      <td>0.616608</td>\n",
       "      <td>-0.051412</td>\n",
       "      <td>0.075452</td>\n",
       "      <td>-0.171180</td>\n",
       "      <td>-0.008256</td>\n",
       "      <td>0.050242</td>\n",
       "      <td>0.235423</td>\n",
       "      <td>-0.078566</td>\n",
       "    </tr>\n",
       "    <tr>\n",
       "      <th>beds</th>\n",
       "      <td>0.134744</td>\n",
       "      <td>0.044395</td>\n",
       "      <td>-0.206596</td>\n",
       "      <td>0.353522</td>\n",
       "      <td>0.852040</td>\n",
       "      <td>0.814741</td>\n",
       "      <td>1.000000</td>\n",
       "      <td>0.584988</td>\n",
       "      <td>-0.083960</td>\n",
       "      <td>0.084521</td>\n",
       "      <td>-0.129533</td>\n",
       "      <td>-0.031804</td>\n",
       "      <td>0.034030</td>\n",
       "      <td>0.234669</td>\n",
       "      <td>-0.045794</td>\n",
       "    </tr>\n",
       "    <tr>\n",
       "      <th>price</th>\n",
       "      <td>0.128218</td>\n",
       "      <td>0.115390</td>\n",
       "      <td>-0.311167</td>\n",
       "      <td>0.283903</td>\n",
       "      <td>0.614798</td>\n",
       "      <td>0.616608</td>\n",
       "      <td>0.584988</td>\n",
       "      <td>1.000000</td>\n",
       "      <td>-0.080551</td>\n",
       "      <td>0.115712</td>\n",
       "      <td>-0.155717</td>\n",
       "      <td>0.026556</td>\n",
       "      <td>0.087972</td>\n",
       "      <td>0.267426</td>\n",
       "      <td>-0.064276</td>\n",
       "    </tr>\n",
       "    <tr>\n",
       "      <th>minimum_nights</th>\n",
       "      <td>-0.068090</td>\n",
       "      <td>0.031524</td>\n",
       "      <td>0.067838</td>\n",
       "      <td>-0.000431</td>\n",
       "      <td>-0.113276</td>\n",
       "      <td>-0.051412</td>\n",
       "      <td>-0.083960</td>\n",
       "      <td>-0.080551</td>\n",
       "      <td>1.000000</td>\n",
       "      <td>0.037854</td>\n",
       "      <td>-0.107536</td>\n",
       "      <td>0.004840</td>\n",
       "      <td>0.004253</td>\n",
       "      <td>-0.085042</td>\n",
       "      <td>-0.103131</td>\n",
       "    </tr>\n",
       "    <tr>\n",
       "      <th>availability_365</th>\n",
       "      <td>0.097294</td>\n",
       "      <td>0.041981</td>\n",
       "      <td>-0.087748</td>\n",
       "      <td>0.023682</td>\n",
       "      <td>0.083271</td>\n",
       "      <td>0.075452</td>\n",
       "      <td>0.084521</td>\n",
       "      <td>0.115712</td>\n",
       "      <td>0.037854</td>\n",
       "      <td>1.000000</td>\n",
       "      <td>-0.074635</td>\n",
       "      <td>-0.107434</td>\n",
       "      <td>-0.047761</td>\n",
       "      <td>0.189818</td>\n",
       "      <td>-0.062971</td>\n",
       "    </tr>\n",
       "    <tr>\n",
       "      <th>number_of_reviews</th>\n",
       "      <td>-0.137352</td>\n",
       "      <td>-0.083415</td>\n",
       "      <td>0.030793</td>\n",
       "      <td>0.003176</td>\n",
       "      <td>-0.135153</td>\n",
       "      <td>-0.171180</td>\n",
       "      <td>-0.129533</td>\n",
       "      <td>-0.155717</td>\n",
       "      <td>-0.107536</td>\n",
       "      <td>-0.074635</td>\n",
       "      <td>1.000000</td>\n",
       "      <td>0.092363</td>\n",
       "      <td>0.035574</td>\n",
       "      <td>-0.167329</td>\n",
       "      <td>0.260767</td>\n",
       "    </tr>\n",
       "    <tr>\n",
       "      <th>review_scores_rating</th>\n",
       "      <td>-0.122511</td>\n",
       "      <td>0.034949</td>\n",
       "      <td>0.012697</td>\n",
       "      <td>0.038575</td>\n",
       "      <td>-0.044649</td>\n",
       "      <td>-0.008256</td>\n",
       "      <td>-0.031804</td>\n",
       "      <td>0.026556</td>\n",
       "      <td>0.004840</td>\n",
       "      <td>-0.107434</td>\n",
       "      <td>0.092363</td>\n",
       "      <td>1.000000</td>\n",
       "      <td>0.683590</td>\n",
       "      <td>-0.118268</td>\n",
       "      <td>0.045833</td>\n",
       "    </tr>\n",
       "    <tr>\n",
       "      <th>review_scores_location</th>\n",
       "      <td>-0.024212</td>\n",
       "      <td>0.099352</td>\n",
       "      <td>-0.181366</td>\n",
       "      <td>0.095516</td>\n",
       "      <td>0.025911</td>\n",
       "      <td>0.050242</td>\n",
       "      <td>0.034030</td>\n",
       "      <td>0.087972</td>\n",
       "      <td>0.004253</td>\n",
       "      <td>-0.047761</td>\n",
       "      <td>0.035574</td>\n",
       "      <td>0.683590</td>\n",
       "      <td>1.000000</td>\n",
       "      <td>0.008801</td>\n",
       "      <td>0.013011</td>\n",
       "    </tr>\n",
       "    <tr>\n",
       "      <th>calculated_host_listings_count</th>\n",
       "      <td>0.625182</td>\n",
       "      <td>0.071037</td>\n",
       "      <td>-0.285317</td>\n",
       "      <td>0.168995</td>\n",
       "      <td>0.238870</td>\n",
       "      <td>0.235423</td>\n",
       "      <td>0.234669</td>\n",
       "      <td>0.267426</td>\n",
       "      <td>-0.085042</td>\n",
       "      <td>0.189818</td>\n",
       "      <td>-0.167329</td>\n",
       "      <td>-0.118268</td>\n",
       "      <td>0.008801</td>\n",
       "      <td>1.000000</td>\n",
       "      <td>-0.096210</td>\n",
       "    </tr>\n",
       "    <tr>\n",
       "      <th>reviews_per_month</th>\n",
       "      <td>-0.066718</td>\n",
       "      <td>-0.072133</td>\n",
       "      <td>0.062811</td>\n",
       "      <td>0.039387</td>\n",
       "      <td>-0.029231</td>\n",
       "      <td>-0.078566</td>\n",
       "      <td>-0.045794</td>\n",
       "      <td>-0.064276</td>\n",
       "      <td>-0.103131</td>\n",
       "      <td>-0.062971</td>\n",
       "      <td>0.260767</td>\n",
       "      <td>0.045833</td>\n",
       "      <td>0.013011</td>\n",
       "      <td>-0.096210</td>\n",
       "      <td>1.000000</td>\n",
       "    </tr>\n",
       "  </tbody>\n",
       "</table>\n",
       "</div>"
      ],
      "text/plain": [
       "                                host_total_listings_count  latitude  \\\n",
       "host_total_listings_count                        1.000000  0.064070   \n",
       "latitude                                         0.064070  1.000000   \n",
       "longitude                                       -0.158572 -0.434009   \n",
       "room_type                                        0.133908 -0.059086   \n",
       "accommodates                                     0.149539  0.015132   \n",
       "bedrooms                                         0.133831  0.091719   \n",
       "beds                                             0.134744  0.044395   \n",
       "price                                            0.128218  0.115390   \n",
       "minimum_nights                                  -0.068090  0.031524   \n",
       "availability_365                                 0.097294  0.041981   \n",
       "number_of_reviews                               -0.137352 -0.083415   \n",
       "review_scores_rating                            -0.122511  0.034949   \n",
       "review_scores_location                          -0.024212  0.099352   \n",
       "calculated_host_listings_count                   0.625182  0.071037   \n",
       "reviews_per_month                               -0.066718 -0.072133   \n",
       "\n",
       "                                longitude  room_type  accommodates  bedrooms  \\\n",
       "host_total_listings_count       -0.158572   0.133908      0.149539  0.133831   \n",
       "latitude                        -0.434009  -0.059086      0.015132  0.091719   \n",
       "longitude                        1.000000  -0.227047     -0.204721 -0.198624   \n",
       "room_type                       -0.227047   1.000000      0.448663  0.356317   \n",
       "accommodates                    -0.204721   0.448663      1.000000  0.845026   \n",
       "bedrooms                        -0.198624   0.356317      0.845026  1.000000   \n",
       "beds                            -0.206596   0.353522      0.852040  0.814741   \n",
       "price                           -0.311167   0.283903      0.614798  0.616608   \n",
       "minimum_nights                   0.067838  -0.000431     -0.113276 -0.051412   \n",
       "availability_365                -0.087748   0.023682      0.083271  0.075452   \n",
       "number_of_reviews                0.030793   0.003176     -0.135153 -0.171180   \n",
       "review_scores_rating             0.012697   0.038575     -0.044649 -0.008256   \n",
       "review_scores_location          -0.181366   0.095516      0.025911  0.050242   \n",
       "calculated_host_listings_count  -0.285317   0.168995      0.238870  0.235423   \n",
       "reviews_per_month                0.062811   0.039387     -0.029231 -0.078566   \n",
       "\n",
       "                                    beds     price  minimum_nights  \\\n",
       "host_total_listings_count       0.134744  0.128218       -0.068090   \n",
       "latitude                        0.044395  0.115390        0.031524   \n",
       "longitude                      -0.206596 -0.311167        0.067838   \n",
       "room_type                       0.353522  0.283903       -0.000431   \n",
       "accommodates                    0.852040  0.614798       -0.113276   \n",
       "bedrooms                        0.814741  0.616608       -0.051412   \n",
       "beds                            1.000000  0.584988       -0.083960   \n",
       "price                           0.584988  1.000000       -0.080551   \n",
       "minimum_nights                 -0.083960 -0.080551        1.000000   \n",
       "availability_365                0.084521  0.115712        0.037854   \n",
       "number_of_reviews              -0.129533 -0.155717       -0.107536   \n",
       "review_scores_rating           -0.031804  0.026556        0.004840   \n",
       "review_scores_location          0.034030  0.087972        0.004253   \n",
       "calculated_host_listings_count  0.234669  0.267426       -0.085042   \n",
       "reviews_per_month              -0.045794 -0.064276       -0.103131   \n",
       "\n",
       "                                availability_365  number_of_reviews  \\\n",
       "host_total_listings_count               0.097294          -0.137352   \n",
       "latitude                                0.041981          -0.083415   \n",
       "longitude                              -0.087748           0.030793   \n",
       "room_type                               0.023682           0.003176   \n",
       "accommodates                            0.083271          -0.135153   \n",
       "bedrooms                                0.075452          -0.171180   \n",
       "beds                                    0.084521          -0.129533   \n",
       "price                                   0.115712          -0.155717   \n",
       "minimum_nights                          0.037854          -0.107536   \n",
       "availability_365                        1.000000          -0.074635   \n",
       "number_of_reviews                      -0.074635           1.000000   \n",
       "review_scores_rating                   -0.107434           0.092363   \n",
       "review_scores_location                 -0.047761           0.035574   \n",
       "calculated_host_listings_count          0.189818          -0.167329   \n",
       "reviews_per_month                      -0.062971           0.260767   \n",
       "\n",
       "                                review_scores_rating  review_scores_location  \\\n",
       "host_total_listings_count                  -0.122511               -0.024212   \n",
       "latitude                                    0.034949                0.099352   \n",
       "longitude                                   0.012697               -0.181366   \n",
       "room_type                                   0.038575                0.095516   \n",
       "accommodates                               -0.044649                0.025911   \n",
       "bedrooms                                   -0.008256                0.050242   \n",
       "beds                                       -0.031804                0.034030   \n",
       "price                                       0.026556                0.087972   \n",
       "minimum_nights                              0.004840                0.004253   \n",
       "availability_365                           -0.107434               -0.047761   \n",
       "number_of_reviews                           0.092363                0.035574   \n",
       "review_scores_rating                        1.000000                0.683590   \n",
       "review_scores_location                      0.683590                1.000000   \n",
       "calculated_host_listings_count             -0.118268                0.008801   \n",
       "reviews_per_month                           0.045833                0.013011   \n",
       "\n",
       "                                calculated_host_listings_count  \\\n",
       "host_total_listings_count                             0.625182   \n",
       "latitude                                              0.071037   \n",
       "longitude                                            -0.285317   \n",
       "room_type                                             0.168995   \n",
       "accommodates                                          0.238870   \n",
       "bedrooms                                              0.235423   \n",
       "beds                                                  0.234669   \n",
       "price                                                 0.267426   \n",
       "minimum_nights                                       -0.085042   \n",
       "availability_365                                      0.189818   \n",
       "number_of_reviews                                    -0.167329   \n",
       "review_scores_rating                                 -0.118268   \n",
       "review_scores_location                                0.008801   \n",
       "calculated_host_listings_count                        1.000000   \n",
       "reviews_per_month                                    -0.096210   \n",
       "\n",
       "                                reviews_per_month  \n",
       "host_total_listings_count               -0.066718  \n",
       "latitude                                -0.072133  \n",
       "longitude                                0.062811  \n",
       "room_type                                0.039387  \n",
       "accommodates                            -0.029231  \n",
       "bedrooms                                -0.078566  \n",
       "beds                                    -0.045794  \n",
       "price                                   -0.064276  \n",
       "minimum_nights                          -0.103131  \n",
       "availability_365                        -0.062971  \n",
       "number_of_reviews                        0.260767  \n",
       "review_scores_rating                     0.045833  \n",
       "review_scores_location                   0.013011  \n",
       "calculated_host_listings_count          -0.096210  \n",
       "reviews_per_month                        1.000000  "
      ]
     },
     "execution_count": 27,
     "metadata": {},
     "output_type": "execute_result"
    }
   ],
   "source": [
    "#Correlation Pearson 'Default'\n",
    "dftrain.corr()"
   ]
  },
  {
   "cell_type": "code",
   "execution_count": 28,
   "id": "dadb5f7d",
   "metadata": {
    "scrolled": false
   },
   "outputs": [
    {
     "data": {
      "text/html": [
       "<div>\n",
       "<style scoped>\n",
       "    .dataframe tbody tr th:only-of-type {\n",
       "        vertical-align: middle;\n",
       "    }\n",
       "\n",
       "    .dataframe tbody tr th {\n",
       "        vertical-align: top;\n",
       "    }\n",
       "\n",
       "    .dataframe thead th {\n",
       "        text-align: right;\n",
       "    }\n",
       "</style>\n",
       "<table border=\"1\" class=\"dataframe\">\n",
       "  <thead>\n",
       "    <tr style=\"text-align: right;\">\n",
       "      <th></th>\n",
       "      <th>host_total_listings_count</th>\n",
       "      <th>latitude</th>\n",
       "      <th>longitude</th>\n",
       "      <th>room_type</th>\n",
       "      <th>accommodates</th>\n",
       "      <th>bedrooms</th>\n",
       "      <th>beds</th>\n",
       "      <th>price</th>\n",
       "      <th>minimum_nights</th>\n",
       "      <th>availability_365</th>\n",
       "      <th>number_of_reviews</th>\n",
       "      <th>review_scores_rating</th>\n",
       "      <th>review_scores_location</th>\n",
       "      <th>calculated_host_listings_count</th>\n",
       "      <th>reviews_per_month</th>\n",
       "    </tr>\n",
       "  </thead>\n",
       "  <tbody>\n",
       "    <tr>\n",
       "      <th>host_total_listings_count</th>\n",
       "      <td>1.000000</td>\n",
       "      <td>0.025787</td>\n",
       "      <td>-0.250950</td>\n",
       "      <td>0.175713</td>\n",
       "      <td>0.266972</td>\n",
       "      <td>0.175207</td>\n",
       "      <td>0.236410</td>\n",
       "      <td>0.308834</td>\n",
       "      <td>-0.153903</td>\n",
       "      <td>0.187109</td>\n",
       "      <td>-0.052326</td>\n",
       "      <td>-0.288032</td>\n",
       "      <td>-0.077229</td>\n",
       "      <td>0.853760</td>\n",
       "      <td>-0.127711</td>\n",
       "    </tr>\n",
       "    <tr>\n",
       "      <th>latitude</th>\n",
       "      <td>0.025787</td>\n",
       "      <td>1.000000</td>\n",
       "      <td>-0.531483</td>\n",
       "      <td>-0.031406</td>\n",
       "      <td>0.062996</td>\n",
       "      <td>0.126925</td>\n",
       "      <td>0.100094</td>\n",
       "      <td>0.186226</td>\n",
       "      <td>0.106466</td>\n",
       "      <td>0.036061</td>\n",
       "      <td>-0.086132</td>\n",
       "      <td>0.056019</td>\n",
       "      <td>0.188025</td>\n",
       "      <td>0.025076</td>\n",
       "      <td>-0.160980</td>\n",
       "    </tr>\n",
       "    <tr>\n",
       "      <th>longitude</th>\n",
       "      <td>-0.250950</td>\n",
       "      <td>-0.531483</td>\n",
       "      <td>1.000000</td>\n",
       "      <td>-0.230557</td>\n",
       "      <td>-0.275196</td>\n",
       "      <td>-0.249955</td>\n",
       "      <td>-0.280354</td>\n",
       "      <td>-0.496907</td>\n",
       "      <td>-0.084660</td>\n",
       "      <td>-0.083352</td>\n",
       "      <td>0.026660</td>\n",
       "      <td>0.050854</td>\n",
       "      <td>-0.279611</td>\n",
       "      <td>-0.267108</td>\n",
       "      <td>0.134131</td>\n",
       "    </tr>\n",
       "    <tr>\n",
       "      <th>room_type</th>\n",
       "      <td>0.175713</td>\n",
       "      <td>-0.031406</td>\n",
       "      <td>-0.230557</td>\n",
       "      <td>1.000000</td>\n",
       "      <td>0.562560</td>\n",
       "      <td>0.440246</td>\n",
       "      <td>0.475442</td>\n",
       "      <td>0.572043</td>\n",
       "      <td>0.159387</td>\n",
       "      <td>0.013701</td>\n",
       "      <td>0.061861</td>\n",
       "      <td>-0.028962</td>\n",
       "      <td>0.070350</td>\n",
       "      <td>0.154429</td>\n",
       "      <td>0.115316</td>\n",
       "    </tr>\n",
       "    <tr>\n",
       "      <th>accommodates</th>\n",
       "      <td>0.266972</td>\n",
       "      <td>0.062996</td>\n",
       "      <td>-0.275196</td>\n",
       "      <td>0.562560</td>\n",
       "      <td>1.000000</td>\n",
       "      <td>0.851297</td>\n",
       "      <td>0.869062</td>\n",
       "      <td>0.793790</td>\n",
       "      <td>0.056547</td>\n",
       "      <td>0.073014</td>\n",
       "      <td>-0.063501</td>\n",
       "      <td>-0.085629</td>\n",
       "      <td>0.048863</td>\n",
       "      <td>0.257677</td>\n",
       "      <td>-0.022961</td>\n",
       "    </tr>\n",
       "    <tr>\n",
       "      <th>bedrooms</th>\n",
       "      <td>0.175207</td>\n",
       "      <td>0.126925</td>\n",
       "      <td>-0.249955</td>\n",
       "      <td>0.440246</td>\n",
       "      <td>0.851297</td>\n",
       "      <td>1.000000</td>\n",
       "      <td>0.830569</td>\n",
       "      <td>0.748522</td>\n",
       "      <td>0.142772</td>\n",
       "      <td>0.068143</td>\n",
       "      <td>-0.138034</td>\n",
       "      <td>-0.010628</td>\n",
       "      <td>0.086612</td>\n",
       "      <td>0.154006</td>\n",
       "      <td>-0.129116</td>\n",
       "    </tr>\n",
       "    <tr>\n",
       "      <th>beds</th>\n",
       "      <td>0.236410</td>\n",
       "      <td>0.100094</td>\n",
       "      <td>-0.280354</td>\n",
       "      <td>0.475442</td>\n",
       "      <td>0.869062</td>\n",
       "      <td>0.830569</td>\n",
       "      <td>1.000000</td>\n",
       "      <td>0.731090</td>\n",
       "      <td>0.077005</td>\n",
       "      <td>0.085481</td>\n",
       "      <td>-0.084423</td>\n",
       "      <td>-0.064182</td>\n",
       "      <td>0.062288</td>\n",
       "      <td>0.231915</td>\n",
       "      <td>-0.063615</td>\n",
       "    </tr>\n",
       "    <tr>\n",
       "      <th>price</th>\n",
       "      <td>0.308834</td>\n",
       "      <td>0.186226</td>\n",
       "      <td>-0.496907</td>\n",
       "      <td>0.572043</td>\n",
       "      <td>0.793790</td>\n",
       "      <td>0.748522</td>\n",
       "      <td>0.731090</td>\n",
       "      <td>1.000000</td>\n",
       "      <td>0.064897</td>\n",
       "      <td>0.131038</td>\n",
       "      <td>-0.125025</td>\n",
       "      <td>-0.002368</td>\n",
       "      <td>0.186560</td>\n",
       "      <td>0.304323</td>\n",
       "      <td>-0.092172</td>\n",
       "    </tr>\n",
       "    <tr>\n",
       "      <th>minimum_nights</th>\n",
       "      <td>-0.153903</td>\n",
       "      <td>0.106466</td>\n",
       "      <td>-0.084660</td>\n",
       "      <td>0.159387</td>\n",
       "      <td>0.056547</td>\n",
       "      <td>0.142772</td>\n",
       "      <td>0.077005</td>\n",
       "      <td>0.064897</td>\n",
       "      <td>1.000000</td>\n",
       "      <td>-0.030819</td>\n",
       "      <td>-0.168528</td>\n",
       "      <td>0.137884</td>\n",
       "      <td>0.147997</td>\n",
       "      <td>-0.183142</td>\n",
       "      <td>-0.314407</td>\n",
       "    </tr>\n",
       "    <tr>\n",
       "      <th>availability_365</th>\n",
       "      <td>0.187109</td>\n",
       "      <td>0.036061</td>\n",
       "      <td>-0.083352</td>\n",
       "      <td>0.013701</td>\n",
       "      <td>0.073014</td>\n",
       "      <td>0.068143</td>\n",
       "      <td>0.085481</td>\n",
       "      <td>0.131038</td>\n",
       "      <td>-0.030819</td>\n",
       "      <td>1.000000</td>\n",
       "      <td>-0.093214</td>\n",
       "      <td>-0.117399</td>\n",
       "      <td>-0.021294</td>\n",
       "      <td>0.216502</td>\n",
       "      <td>-0.105768</td>\n",
       "    </tr>\n",
       "    <tr>\n",
       "      <th>number_of_reviews</th>\n",
       "      <td>-0.052326</td>\n",
       "      <td>-0.086132</td>\n",
       "      <td>0.026660</td>\n",
       "      <td>0.061861</td>\n",
       "      <td>-0.063501</td>\n",
       "      <td>-0.138034</td>\n",
       "      <td>-0.084423</td>\n",
       "      <td>-0.125025</td>\n",
       "      <td>-0.168528</td>\n",
       "      <td>-0.093214</td>\n",
       "      <td>1.000000</td>\n",
       "      <td>-0.147358</td>\n",
       "      <td>-0.321321</td>\n",
       "      <td>-0.120883</td>\n",
       "      <td>0.661202</td>\n",
       "    </tr>\n",
       "    <tr>\n",
       "      <th>review_scores_rating</th>\n",
       "      <td>-0.288032</td>\n",
       "      <td>0.056019</td>\n",
       "      <td>0.050854</td>\n",
       "      <td>-0.028962</td>\n",
       "      <td>-0.085629</td>\n",
       "      <td>-0.010628</td>\n",
       "      <td>-0.064182</td>\n",
       "      <td>-0.002368</td>\n",
       "      <td>0.137884</td>\n",
       "      <td>-0.117399</td>\n",
       "      <td>-0.147358</td>\n",
       "      <td>1.000000</td>\n",
       "      <td>0.459717</td>\n",
       "      <td>-0.268932</td>\n",
       "      <td>-0.043692</td>\n",
       "    </tr>\n",
       "    <tr>\n",
       "      <th>review_scores_location</th>\n",
       "      <td>-0.077229</td>\n",
       "      <td>0.188025</td>\n",
       "      <td>-0.279611</td>\n",
       "      <td>0.070350</td>\n",
       "      <td>0.048863</td>\n",
       "      <td>0.086612</td>\n",
       "      <td>0.062288</td>\n",
       "      <td>0.186560</td>\n",
       "      <td>0.147997</td>\n",
       "      <td>-0.021294</td>\n",
       "      <td>-0.321321</td>\n",
       "      <td>0.459717</td>\n",
       "      <td>1.000000</td>\n",
       "      <td>-0.054750</td>\n",
       "      <td>-0.234987</td>\n",
       "    </tr>\n",
       "    <tr>\n",
       "      <th>calculated_host_listings_count</th>\n",
       "      <td>0.853760</td>\n",
       "      <td>0.025076</td>\n",
       "      <td>-0.267108</td>\n",
       "      <td>0.154429</td>\n",
       "      <td>0.257677</td>\n",
       "      <td>0.154006</td>\n",
       "      <td>0.231915</td>\n",
       "      <td>0.304323</td>\n",
       "      <td>-0.183142</td>\n",
       "      <td>0.216502</td>\n",
       "      <td>-0.120883</td>\n",
       "      <td>-0.268932</td>\n",
       "      <td>-0.054750</td>\n",
       "      <td>1.000000</td>\n",
       "      <td>-0.111903</td>\n",
       "    </tr>\n",
       "    <tr>\n",
       "      <th>reviews_per_month</th>\n",
       "      <td>-0.127711</td>\n",
       "      <td>-0.160980</td>\n",
       "      <td>0.134131</td>\n",
       "      <td>0.115316</td>\n",
       "      <td>-0.022961</td>\n",
       "      <td>-0.129116</td>\n",
       "      <td>-0.063615</td>\n",
       "      <td>-0.092172</td>\n",
       "      <td>-0.314407</td>\n",
       "      <td>-0.105768</td>\n",
       "      <td>0.661202</td>\n",
       "      <td>-0.043692</td>\n",
       "      <td>-0.234987</td>\n",
       "      <td>-0.111903</td>\n",
       "      <td>1.000000</td>\n",
       "    </tr>\n",
       "  </tbody>\n",
       "</table>\n",
       "</div>"
      ],
      "text/plain": [
       "                                host_total_listings_count  latitude  \\\n",
       "host_total_listings_count                        1.000000  0.025787   \n",
       "latitude                                         0.025787  1.000000   \n",
       "longitude                                       -0.250950 -0.531483   \n",
       "room_type                                        0.175713 -0.031406   \n",
       "accommodates                                     0.266972  0.062996   \n",
       "bedrooms                                         0.175207  0.126925   \n",
       "beds                                             0.236410  0.100094   \n",
       "price                                            0.308834  0.186226   \n",
       "minimum_nights                                  -0.153903  0.106466   \n",
       "availability_365                                 0.187109  0.036061   \n",
       "number_of_reviews                               -0.052326 -0.086132   \n",
       "review_scores_rating                            -0.288032  0.056019   \n",
       "review_scores_location                          -0.077229  0.188025   \n",
       "calculated_host_listings_count                   0.853760  0.025076   \n",
       "reviews_per_month                               -0.127711 -0.160980   \n",
       "\n",
       "                                longitude  room_type  accommodates  bedrooms  \\\n",
       "host_total_listings_count       -0.250950   0.175713      0.266972  0.175207   \n",
       "latitude                        -0.531483  -0.031406      0.062996  0.126925   \n",
       "longitude                        1.000000  -0.230557     -0.275196 -0.249955   \n",
       "room_type                       -0.230557   1.000000      0.562560  0.440246   \n",
       "accommodates                    -0.275196   0.562560      1.000000  0.851297   \n",
       "bedrooms                        -0.249955   0.440246      0.851297  1.000000   \n",
       "beds                            -0.280354   0.475442      0.869062  0.830569   \n",
       "price                           -0.496907   0.572043      0.793790  0.748522   \n",
       "minimum_nights                  -0.084660   0.159387      0.056547  0.142772   \n",
       "availability_365                -0.083352   0.013701      0.073014  0.068143   \n",
       "number_of_reviews                0.026660   0.061861     -0.063501 -0.138034   \n",
       "review_scores_rating             0.050854  -0.028962     -0.085629 -0.010628   \n",
       "review_scores_location          -0.279611   0.070350      0.048863  0.086612   \n",
       "calculated_host_listings_count  -0.267108   0.154429      0.257677  0.154006   \n",
       "reviews_per_month                0.134131   0.115316     -0.022961 -0.129116   \n",
       "\n",
       "                                    beds     price  minimum_nights  \\\n",
       "host_total_listings_count       0.236410  0.308834       -0.153903   \n",
       "latitude                        0.100094  0.186226        0.106466   \n",
       "longitude                      -0.280354 -0.496907       -0.084660   \n",
       "room_type                       0.475442  0.572043        0.159387   \n",
       "accommodates                    0.869062  0.793790        0.056547   \n",
       "bedrooms                        0.830569  0.748522        0.142772   \n",
       "beds                            1.000000  0.731090        0.077005   \n",
       "price                           0.731090  1.000000        0.064897   \n",
       "minimum_nights                  0.077005  0.064897        1.000000   \n",
       "availability_365                0.085481  0.131038       -0.030819   \n",
       "number_of_reviews              -0.084423 -0.125025       -0.168528   \n",
       "review_scores_rating           -0.064182 -0.002368        0.137884   \n",
       "review_scores_location          0.062288  0.186560        0.147997   \n",
       "calculated_host_listings_count  0.231915  0.304323       -0.183142   \n",
       "reviews_per_month              -0.063615 -0.092172       -0.314407   \n",
       "\n",
       "                                availability_365  number_of_reviews  \\\n",
       "host_total_listings_count               0.187109          -0.052326   \n",
       "latitude                                0.036061          -0.086132   \n",
       "longitude                              -0.083352           0.026660   \n",
       "room_type                               0.013701           0.061861   \n",
       "accommodates                            0.073014          -0.063501   \n",
       "bedrooms                                0.068143          -0.138034   \n",
       "beds                                    0.085481          -0.084423   \n",
       "price                                   0.131038          -0.125025   \n",
       "minimum_nights                         -0.030819          -0.168528   \n",
       "availability_365                        1.000000          -0.093214   \n",
       "number_of_reviews                      -0.093214           1.000000   \n",
       "review_scores_rating                   -0.117399          -0.147358   \n",
       "review_scores_location                 -0.021294          -0.321321   \n",
       "calculated_host_listings_count          0.216502          -0.120883   \n",
       "reviews_per_month                      -0.105768           0.661202   \n",
       "\n",
       "                                review_scores_rating  review_scores_location  \\\n",
       "host_total_listings_count                  -0.288032               -0.077229   \n",
       "latitude                                    0.056019                0.188025   \n",
       "longitude                                   0.050854               -0.279611   \n",
       "room_type                                  -0.028962                0.070350   \n",
       "accommodates                               -0.085629                0.048863   \n",
       "bedrooms                                   -0.010628                0.086612   \n",
       "beds                                       -0.064182                0.062288   \n",
       "price                                      -0.002368                0.186560   \n",
       "minimum_nights                              0.137884                0.147997   \n",
       "availability_365                           -0.117399               -0.021294   \n",
       "number_of_reviews                          -0.147358               -0.321321   \n",
       "review_scores_rating                        1.000000                0.459717   \n",
       "review_scores_location                      0.459717                1.000000   \n",
       "calculated_host_listings_count             -0.268932               -0.054750   \n",
       "reviews_per_month                          -0.043692               -0.234987   \n",
       "\n",
       "                                calculated_host_listings_count  \\\n",
       "host_total_listings_count                             0.853760   \n",
       "latitude                                              0.025076   \n",
       "longitude                                            -0.267108   \n",
       "room_type                                             0.154429   \n",
       "accommodates                                          0.257677   \n",
       "bedrooms                                              0.154006   \n",
       "beds                                                  0.231915   \n",
       "price                                                 0.304323   \n",
       "minimum_nights                                       -0.183142   \n",
       "availability_365                                      0.216502   \n",
       "number_of_reviews                                    -0.120883   \n",
       "review_scores_rating                                 -0.268932   \n",
       "review_scores_location                               -0.054750   \n",
       "calculated_host_listings_count                        1.000000   \n",
       "reviews_per_month                                    -0.111903   \n",
       "\n",
       "                                reviews_per_month  \n",
       "host_total_listings_count               -0.127711  \n",
       "latitude                                -0.160980  \n",
       "longitude                                0.134131  \n",
       "room_type                                0.115316  \n",
       "accommodates                            -0.022961  \n",
       "bedrooms                                -0.129116  \n",
       "beds                                    -0.063615  \n",
       "price                                   -0.092172  \n",
       "minimum_nights                          -0.314407  \n",
       "availability_365                        -0.105768  \n",
       "number_of_reviews                        0.661202  \n",
       "review_scores_rating                    -0.043692  \n",
       "review_scores_location                  -0.234987  \n",
       "calculated_host_listings_count          -0.111903  \n",
       "reviews_per_month                        1.000000  "
      ]
     },
     "execution_count": 28,
     "metadata": {},
     "output_type": "execute_result"
    }
   ],
   "source": [
    "#Correlation Spearman\n",
    "dftrain.corr(method ='spearman')"
   ]
  },
  {
   "cell_type": "markdown",
   "id": "d5b8a32f",
   "metadata": {},
   "source": [
    "### Heatmap"
   ]
  },
  {
   "cell_type": "code",
   "execution_count": 29,
   "id": "a770e8c4",
   "metadata": {},
   "outputs": [
    {
     "data": {
      "text/plain": [
       "<AxesSubplot:>"
      ]
     },
     "execution_count": 29,
     "metadata": {},
     "output_type": "execute_result"
    },
    {
     "data": {
      "image/png": "[encoded data removed]",
      "text/plain": [
       "<Figure size 432x288 with 2 Axes>"
      ]
     },
     "metadata": {
      "needs_background": "light"
     },
     "output_type": "display_data"
    }
   ],
   "source": [
    "# Heatmap Correlation Pearson 'Default'\n",
    "sns.heatmap(dftrain.corr(),cmap=\"magma\",linewidths=.1)"
   ]
  },
  {
   "cell_type": "code",
   "execution_count": 30,
   "id": "f460b3cc",
   "metadata": {},
   "outputs": [
    {
     "data": {
      "text/plain": [
       "<AxesSubplot:>"
      ]
     },
     "execution_count": 30,
     "metadata": {},
     "output_type": "execute_result"
    },
    {
     "data": {
      "image/png": "[encoded data removed]",
      "text/plain": [
       "<Figure size 432x288 with 2 Axes>"
      ]
     },
     "metadata": {
      "needs_background": "light"
     },
     "output_type": "display_data"
    }
   ],
   "source": [
    "# Heatmap Correlation Spearman\n",
    "sns.heatmap(dftrain.corr(method ='spearman'),cmap=\"YlGnBu\",linewidths=.1)"
   ]
  },
  {
   "cell_type": "markdown",
   "id": "5ef4a806",
   "metadata": {},
   "source": [
    "<blockquote>Based on the previous results, the variables <b>accommodates</b>, <b>bedrooms</b>, and <b>beds</b> could be explanatory for the price.</blockquote>"
   ]
  },
  {
   "cell_type": "markdown",
   "id": "9e71b2ee",
   "metadata": {},
   "source": [
    "## Model Performance Metrics"
   ]
  },
  {
   "cell_type": "markdown",
   "id": "c7b1ce9d",
   "metadata": {},
   "source": [
    "### Univariate linear regression model"
   ]
  },
  {
   "cell_type": "markdown",
   "id": "a9877010",
   "metadata": {},
   "source": [
    "#### Bedrooms (Variable)"
   ]
  },
  {
   "cell_type": "code",
   "execution_count": 31,
   "id": "cefd33c4",
   "metadata": {},
   "outputs": [],
   "source": [
    "#Univariate linear regression for 'bedrooms'\n",
    "linear_univ_mod_1 = LinearRegression().fit(dftrain[['bedrooms']], dftrain[['price']])"
   ]
  },
  {
   "cell_type": "code",
   "execution_count": 33,
   "id": "220ca955",
   "metadata": {},
   "outputs": [],
   "source": [
    "dftest[['predicted_linear_univ_1']] = pd.DataFrame(linear_univ_mod_1.predict(dftest[['bedrooms']]))"
   ]
  },
  {
   "cell_type": "code",
   "execution_count": 34,
   "id": "9411ec9c",
   "metadata": {},
   "outputs": [
    {
     "data": {
      "image/png": "[encoded data removed]",
      "text/plain": [
       "<Figure size 432x288 with 1 Axes>"
      ]
     },
     "metadata": {
      "needs_background": "light"
     },
     "output_type": "display_data"
    }
   ],
   "source": [
    "plt.scatter(dftest[['price']], dftest[['predicted_linear_univ_1']])\n",
    "plt.plot(dftest[['price']], dftest[['price']])\n",
    "plt.title(\"Real price vs Predicted price\")\n",
    "plt.xlabel(\"Real Price ($)\")\n",
    "plt.ylabel(\"Predicted price ($)\")\n",
    "plt.show()"
   ]
  },
  {
   "cell_type": "code",
   "execution_count": 35,
   "id": "c1024dbe",
   "metadata": {},
   "outputs": [
    {
     "name": "stdout",
     "output_type": "stream",
     "text": [
      "RMSE = 220.74\n",
      "MAE = 138.07\n",
      "MAPE = 0.65\n"
     ]
    }
   ],
   "source": [
    "#Model Performance Metrics for predicted_linear_univ_1\n",
    "RMSE_uni = mean_squared_error(dftest[['price']], dftest[['predicted_linear_univ_1']], squared=False)\n",
    "MAE_uni = mean_absolute_error(dftest[['price']], dftest[['predicted_linear_univ_1']])\n",
    "MAPE_uni = mean_absolute_percentage_error(dftest[['price']], dftest[['predicted_linear_univ_1']])\n",
    "print(\"RMSE = {}\".format(round(RMSE_uni, 2)))\n",
    "print(\"MAE = {}\".format(round(MAE_uni, 2)))\n",
    "print(\"MAPE = {}\".format(round(MAPE_uni, 2)))"
   ]
  },
  {
   "cell_type": "markdown",
   "id": "52b3d06d",
   "metadata": {},
   "source": [
    "#### Accommodates (Variable)"
   ]
  },
  {
   "cell_type": "code",
   "execution_count": 36,
   "id": "8263f250",
   "metadata": {},
   "outputs": [],
   "source": [
    "#Univariate linear regression for 'accommodates'\n",
    "linear_univ_mod = LinearRegression().fit(dftrain[['accommodates']], dftrain[['price']])"
   ]
  },
  {
   "cell_type": "code",
   "execution_count": 37,
   "id": "ebe4985c",
   "metadata": {},
   "outputs": [],
   "source": [
    "dftest[['predicted_linear_univ']] = pd.DataFrame(linear_univ_mod.predict(dftest[['accommodates']]))"
   ]
  },
  {
   "cell_type": "code",
   "execution_count": 38,
   "id": "bb28e134",
   "metadata": {},
   "outputs": [
    {
     "data": {
      "image/png": "[encoded data removed]",
      "text/plain": [
       "<Figure size 432x288 with 1 Axes>"
      ]
     },
     "metadata": {
      "needs_background": "light"
     },
     "output_type": "display_data"
    }
   ],
   "source": [
    "plt.scatter(dftest[['price']], dftest[['predicted_linear_univ']])\n",
    "plt.plot(dftest[['price']], dftest[['price']])\n",
    "plt.title(\"Real price vs Predicted price\")\n",
    "plt.xlabel(\"Real Price ($)\")\n",
    "plt.ylabel(\"Predicted price ($)\")\n",
    "plt.show()"
   ]
  },
  {
   "cell_type": "code",
   "execution_count": 39,
   "id": "30e325a3",
   "metadata": {},
   "outputs": [
    {
     "name": "stdout",
     "output_type": "stream",
     "text": [
      "RMSE = 223.58\n",
      "MAE = 137.2\n",
      "MAPE = 0.57\n"
     ]
    }
   ],
   "source": [
    "#Model Performance Metrics for predicted_linear_univ\n",
    "RMSE_uni = mean_squared_error(dftest[['price']], dftest[['predicted_linear_univ']], squared=False)\n",
    "MAE_uni = mean_absolute_error(dftest[['price']], dftest[['predicted_linear_univ']])\n",
    "MAPE_uni = mean_absolute_percentage_error(dftest[['price']], dftest[['predicted_linear_univ']])\n",
    "print(\"RMSE = {}\".format(round(RMSE_uni, 2)))\n",
    "print(\"MAE = {}\".format(round(MAE_uni, 2)))\n",
    "print(\"MAPE = {}\".format(round(MAPE_uni, 2)))"
   ]
  },
  {
   "cell_type": "markdown",
   "id": "cedf57d1",
   "metadata": {},
   "source": [
    "### Linear regression with quadratic term"
   ]
  },
  {
   "cell_type": "markdown",
   "id": "1f949c78",
   "metadata": {},
   "source": [
    "#### Accommodates Variable"
   ]
  },
  {
   "cell_type": "code",
   "execution_count": 53,
   "id": "3dc6b52e",
   "metadata": {},
   "outputs": [],
   "source": [
    "dftrain[['accommodates_sq']] = dftrain[['accommodates']]*dftrain[['accommodates']]\n",
    "linear_univ_mod_quad = LinearRegression().fit(dftrain[['accommodates', 'accommodates_sq']], dftrain[['price']])"
   ]
  },
  {
   "cell_type": "code",
   "execution_count": 54,
   "id": "8606e354",
   "metadata": {},
   "outputs": [],
   "source": [
    "dftest[['accommodates_sq']] = dftest[['accommodates']]*dftest[['accommodates']]\n",
    "dftest[['predicted_linear_univ_sq']] = pd.DataFrame(linear_univ_mod_quad.predict(dftest[['accommodates', 'accommodates_sq']]))"
   ]
  },
  {
   "cell_type": "code",
   "execution_count": 55,
   "id": "a698ebd6",
   "metadata": {
    "scrolled": true
   },
   "outputs": [
    {
     "name": "stdout",
     "output_type": "stream",
     "text": [
      "RMSE = 223.37\n",
      "MAE = 136.61\n",
      "MAPE = 0.57\n"
     ]
    }
   ],
   "source": [
    "RMSE_uni_sq = mean_squared_error(dftest[['price']], dftest[['predicted_linear_univ_sq']], squared=False)\n",
    "MAE_uni_sq = mean_absolute_error(dftest[['price']], dftest[['predicted_linear_univ_sq']])\n",
    "MAPE_uni_sq = mean_absolute_percentage_error(dftest[['price']], dftest[['predicted_linear_univ_sq']])\n",
    "print(\"RMSE = {}\".format(round(RMSE_uni_sq, 2)))\n",
    "print(\"MAE = {}\".format(round(MAE_uni_sq, 2)))\n",
    "print(\"MAPE = {}\".format(round(MAPE_uni_sq, 2)))"
   ]
  },
  {
   "cell_type": "markdown",
   "id": "9cdbcfcd",
   "metadata": {},
   "source": [
    "### Multivariate linear regression"
   ]
  },
  {
   "cell_type": "code",
   "execution_count": 43,
   "id": "0d407f1d",
   "metadata": {},
   "outputs": [],
   "source": [
    "columns = ['bedrooms', 'beds', 'calculated_host_listings_count', 'room_type', 'review_scores_location', 'accommodates']"
   ]
  },
  {
   "cell_type": "code",
   "execution_count": 44,
   "id": "71563cfe",
   "metadata": {},
   "outputs": [],
   "source": [
    "linear_multi_mod = LinearRegression().fit(dftrain[columns], dftrain[['price']])"
   ]
  },
  {
   "cell_type": "code",
   "execution_count": 45,
   "id": "73dedd09",
   "metadata": {
    "scrolled": true
   },
   "outputs": [],
   "source": [
    "dftest[['predicted_linear_multi']] = pd.DataFrame(linear_multi_mod.predict(dftest[columns]))"
   ]
  },
  {
   "cell_type": "code",
   "execution_count": 47,
   "id": "5ec32d82",
   "metadata": {},
   "outputs": [
    {
     "data": {
      "image/png": "[encoded data removed]",
      "text/plain": [
       "<Figure size 432x288 with 1 Axes>"
      ]
     },
     "metadata": {
      "needs_background": "light"
     },
     "output_type": "display_data"
    }
   ],
   "source": [
    "plt.scatter(dftest[['price']], dftest[['predicted_linear_multi']])\n",
    "plt.plot(dftest[['price']], dftest[['price']], color = 'red')\n",
    "plt.title(\"Real price vs Predicted price\")\n",
    "plt.xlabel(\"Real Price ($)\")\n",
    "plt.ylabel(\"Predicted price ($)\")\n",
    "plt.show()"
   ]
  },
  {
   "cell_type": "code",
   "execution_count": 48,
   "id": "81e4ddaa",
   "metadata": {},
   "outputs": [
    {
     "name": "stdout",
     "output_type": "stream",
     "text": [
      "RMSE = 203.16\n",
      "MAE = 120.21\n",
      "MAPE = 0.5\n"
     ]
    }
   ],
   "source": [
    "RMSE_multi = mean_squared_error(dftest[['price']], dftest[['predicted_linear_multi']], squared=False)\n",
    "MAE_multi = mean_absolute_error(dftest[['price']], dftest[['predicted_linear_multi']])\n",
    "MAPE_multi = mean_absolute_percentage_error(dftest[['price']], dftest[['predicted_linear_multi']])\n",
    "print(\"RMSE = {}\".format(round(RMSE_multi, 2)))\n",
    "print(\"MAE = {}\".format(round(MAE_multi, 2)))\n",
    "print(\"MAPE = {}\".format(round(MAPE_multi, 2)))"
   ]
  },
  {
   "cell_type": "markdown",
   "id": "599ea13b",
   "metadata": {},
   "source": [
    "### Random forests"
   ]
  },
  {
   "cell_type": "code",
   "execution_count": 49,
   "id": "ed4e4f9e",
   "metadata": {},
   "outputs": [],
   "source": [
    "mod_random_for = RandomForestRegressor().fit(dftrain[columns], dftrain[['price']].values.ravel())"
   ]
  },
  {
   "cell_type": "code",
   "execution_count": 50,
   "id": "7eb86714",
   "metadata": {},
   "outputs": [],
   "source": [
    "dftest[['predicted_random_for']] = pd.DataFrame(mod_random_for.predict(dftest[columns]))"
   ]
  },
  {
   "cell_type": "code",
   "execution_count": 51,
   "id": "f921ee65",
   "metadata": {},
   "outputs": [
    {
     "data": {
      "image/png": "[encoded data removed]",
      "text/plain": [
       "<Figure size 432x288 with 1 Axes>"
      ]
     },
     "metadata": {
      "needs_background": "light"
     },
     "output_type": "display_data"
    }
   ],
   "source": [
    "plt.scatter(dftest[['price']], dftest[['predicted_random_for']])\n",
    "plt.plot(dftest[['price']], dftest[['price']], color = 'red')\n",
    "plt.title(\"Real price vs Predicted price\")\n",
    "plt.xlabel(\"Real Price ($)\")\n",
    "plt.ylabel(\"Predicted price ($)\")\n",
    "plt.show()"
   ]
  },
  {
   "cell_type": "code",
   "execution_count": 52,
   "id": "0f75dad1",
   "metadata": {},
   "outputs": [
    {
     "name": "stdout",
     "output_type": "stream",
     "text": [
      "RMSE = 193.35\n",
      "MAE = 111.27\n",
      "MAPE = 0.46\n"
     ]
    }
   ],
   "source": [
    "RMSE_random = mean_squared_error(dftest[['price']], dftest[['predicted_random_for']], squared=False)\n",
    "MAE_random = mean_absolute_error(dftest[['price']], dftest[['predicted_random_for']])\n",
    "MAPE_random = mean_absolute_percentage_error(dftest[['price']], dftest[['predicted_random_for']])\n",
    "print(\"RMSE = {}\".format(round(RMSE_random, 2)))\n",
    "print(\"MAE = {}\".format(round(MAE_random, 2)))\n",
    "print(\"MAPE = {}\".format(round(MAPE_random, 2)))"
   ]
  },
  {
   "cell_type": "markdown",
   "id": "99a85fef",
   "metadata": {},
   "source": [
    "#### Feature Importance"
   ]
  },
  {
   "cell_type": "code",
   "execution_count": 56,
   "id": "3bb60545",
   "metadata": {},
   "outputs": [
    {
     "data": {
      "text/html": [
       "<div>\n",
       "<style scoped>\n",
       "    .dataframe tbody tr th:only-of-type {\n",
       "        vertical-align: middle;\n",
       "    }\n",
       "\n",
       "    .dataframe tbody tr th {\n",
       "        vertical-align: top;\n",
       "    }\n",
       "\n",
       "    .dataframe thead th {\n",
       "        text-align: right;\n",
       "    }\n",
       "</style>\n",
       "<table border=\"1\" class=\"dataframe\">\n",
       "  <thead>\n",
       "    <tr style=\"text-align: right;\">\n",
       "      <th></th>\n",
       "      <th>variable</th>\n",
       "      <th>FI</th>\n",
       "    </tr>\n",
       "  </thead>\n",
       "  <tbody>\n",
       "    <tr>\n",
       "      <th>0</th>\n",
       "      <td>bedrooms</td>\n",
       "      <td>0.363280</td>\n",
       "    </tr>\n",
       "    <tr>\n",
       "      <th>5</th>\n",
       "      <td>accommodates</td>\n",
       "      <td>0.217285</td>\n",
       "    </tr>\n",
       "    <tr>\n",
       "      <th>2</th>\n",
       "      <td>calculated_host_listings_count</td>\n",
       "      <td>0.159775</td>\n",
       "    </tr>\n",
       "    <tr>\n",
       "      <th>4</th>\n",
       "      <td>review_scores_location</td>\n",
       "      <td>0.152479</td>\n",
       "    </tr>\n",
       "    <tr>\n",
       "      <th>1</th>\n",
       "      <td>beds</td>\n",
       "      <td>0.098257</td>\n",
       "    </tr>\n",
       "    <tr>\n",
       "      <th>3</th>\n",
       "      <td>room_type</td>\n",
       "      <td>0.008924</td>\n",
       "    </tr>\n",
       "  </tbody>\n",
       "</table>\n",
       "</div>"
      ],
      "text/plain": [
       "                         variable        FI\n",
       "0                        bedrooms  0.363280\n",
       "5                    accommodates  0.217285\n",
       "2  calculated_host_listings_count  0.159775\n",
       "4          review_scores_location  0.152479\n",
       "1                            beds  0.098257\n",
       "3                       room_type  0.008924"
      ]
     },
     "execution_count": 56,
     "metadata": {},
     "output_type": "execute_result"
    }
   ],
   "source": [
    "# Feature Importance\n",
    "feature_importance_rf = pd.DataFrame({'variable':columns, 'FI': mod_random_for.feature_importances_})\n",
    "feature_importance_rf.sort_values('FI', ascending = False)"
   ]
  },
  {
   "cell_type": "markdown",
   "id": "5baa916a",
   "metadata": {},
   "source": [
    "## Random forests - different parameters"
   ]
  },
  {
   "cell_type": "code",
   "execution_count": 57,
   "id": "e6118d88",
   "metadata": {},
   "outputs": [],
   "source": [
    "mod_random_for_param = RandomForestRegressor(n_estimators = 350).fit(dftrain[columns], dftrain[['price']].values.ravel())"
   ]
  },
  {
   "cell_type": "code",
   "execution_count": 58,
   "id": "2ba54100",
   "metadata": {},
   "outputs": [],
   "source": [
    "dftest[['predicted_random_for_param']] = pd.DataFrame(mod_random_for_param.predict(dftest[columns]))"
   ]
  },
  {
   "cell_type": "code",
   "execution_count": 63,
   "id": "4b9a830b",
   "metadata": {},
   "outputs": [
    {
     "name": "stdout",
     "output_type": "stream",
     "text": [
      "RMSE = 194.82\n",
      "MAE = 111.71\n",
      "MAPE = 0.46\n"
     ]
    }
   ],
   "source": [
    "RMSE_fi = mean_squared_error(dftest[['price']], dftest[['predicted_random_for_param']], squared=False)\n",
    "MAE_fi = mean_absolute_error(dftest[['price']], dftest[['predicted_random_for_param']])\n",
    "MAPEfi = mean_absolute_percentage_error(dftest[['price']], dftest[['predicted_random_for_param']])\n",
    "print(\"RMSE = {}\".format(round(RMSE_fi, 2)))\n",
    "print(\"MAE = {}\".format(round(MAE_fi, 2)))\n",
    "print(\"MAPE = {}\".format(round(MAPEfi, 2)))"
   ]
  },
  {
   "cell_type": "code",
   "execution_count": 60,
   "id": "af604d45",
   "metadata": {},
   "outputs": [
    {
     "data": {
      "text/html": [
       "<div>\n",
       "<style scoped>\n",
       "    .dataframe tbody tr th:only-of-type {\n",
       "        vertical-align: middle;\n",
       "    }\n",
       "\n",
       "    .dataframe tbody tr th {\n",
       "        vertical-align: top;\n",
       "    }\n",
       "\n",
       "    .dataframe thead th {\n",
       "        text-align: right;\n",
       "    }\n",
       "</style>\n",
       "<table border=\"1\" class=\"dataframe\">\n",
       "  <thead>\n",
       "    <tr style=\"text-align: right;\">\n",
       "      <th></th>\n",
       "      <th>variable</th>\n",
       "      <th>FI</th>\n",
       "    </tr>\n",
       "  </thead>\n",
       "  <tbody>\n",
       "    <tr>\n",
       "      <th>0</th>\n",
       "      <td>bedrooms</td>\n",
       "      <td>0.377919</td>\n",
       "    </tr>\n",
       "    <tr>\n",
       "      <th>5</th>\n",
       "      <td>accommodates</td>\n",
       "      <td>0.203867</td>\n",
       "    </tr>\n",
       "    <tr>\n",
       "      <th>2</th>\n",
       "      <td>calculated_host_listings_count</td>\n",
       "      <td>0.160346</td>\n",
       "    </tr>\n",
       "    <tr>\n",
       "      <th>4</th>\n",
       "      <td>review_scores_location</td>\n",
       "      <td>0.152732</td>\n",
       "    </tr>\n",
       "    <tr>\n",
       "      <th>1</th>\n",
       "      <td>beds</td>\n",
       "      <td>0.095690</td>\n",
       "    </tr>\n",
       "    <tr>\n",
       "      <th>3</th>\n",
       "      <td>room_type</td>\n",
       "      <td>0.009446</td>\n",
       "    </tr>\n",
       "  </tbody>\n",
       "</table>\n",
       "</div>"
      ],
      "text/plain": [
       "                         variable        FI\n",
       "0                        bedrooms  0.377919\n",
       "5                    accommodates  0.203867\n",
       "2  calculated_host_listings_count  0.160346\n",
       "4          review_scores_location  0.152732\n",
       "1                            beds  0.095690\n",
       "3                       room_type  0.009446"
      ]
     },
     "execution_count": 60,
     "metadata": {},
     "output_type": "execute_result"
    }
   ],
   "source": [
    "feature_importance_rf = pd.DataFrame({'variable':columns, 'FI': mod_random_for_param.feature_importances_})\n",
    "feature_importance_rf.sort_values('FI', ascending = False)"
   ]
  },
  {
   "cell_type": "markdown",
   "id": "b35aee67",
   "metadata": {},
   "source": [
    "## Final Thoughts"
   ]
  },
  {
   "cell_type": "markdown",
   "id": "3f5789d9",
   "metadata": {},
   "source": [
    "<blockquote>In this predictive analytics project in Python, I built different models to predict the listing price in San Diego and then choose the best of all the models.\n",
    "The variables <b>accommodates</b>, <b>bedrooms</b>, and <b>beds</b> according to the first exploratory analysis with scatter plots and heat maps suggest a greater predictive force for price.\n",
    "From the data sets, I trained different prediction models:<b> univariate linear regression</b>,<b> multivariate linear regression</b>, and<b> Random Forest</b>.\n",
    "</blockquote>"
   ]
  },
  {
   "cell_type": "markdown",
   "id": "285032bd",
   "metadata": {},
   "source": [
    "#### Metric comparison table between models"
   ]
  },
  {
   "cell_type": "code",
   "execution_count": 83,
   "id": "67cc6d57",
   "metadata": {
    "scrolled": false
   },
   "outputs": [
    {
     "data": {
      "text/html": [
       "<div>\n",
       "<style scoped>\n",
       "    .dataframe tbody tr th:only-of-type {\n",
       "        vertical-align: middle;\n",
       "    }\n",
       "\n",
       "    .dataframe tbody tr th {\n",
       "        vertical-align: top;\n",
       "    }\n",
       "\n",
       "    .dataframe thead th {\n",
       "        text-align: right;\n",
       "    }\n",
       "</style>\n",
       "<table border=\"1\" class=\"dataframe\">\n",
       "  <thead>\n",
       "    <tr style=\"text-align: right;\">\n",
       "      <th></th>\n",
       "      <th>METRIC</th>\n",
       "      <th>UNIV</th>\n",
       "      <th>UNIV_SQ</th>\n",
       "      <th>MULTI</th>\n",
       "      <th>RANDOM</th>\n",
       "      <th>FI</th>\n",
       "    </tr>\n",
       "  </thead>\n",
       "  <tbody>\n",
       "    <tr>\n",
       "      <th>0</th>\n",
       "      <td>RMSE</td>\n",
       "      <td>223.584864</td>\n",
       "      <td>223.374941</td>\n",
       "      <td>203.164485</td>\n",
       "      <td>193.348686</td>\n",
       "      <td>194.824631</td>\n",
       "    </tr>\n",
       "    <tr>\n",
       "      <th>1</th>\n",
       "      <td>MAE</td>\n",
       "      <td>137.198999</td>\n",
       "      <td>136.607250</td>\n",
       "      <td>120.209603</td>\n",
       "      <td>111.266443</td>\n",
       "      <td>111.708953</td>\n",
       "    </tr>\n",
       "    <tr>\n",
       "      <th>2</th>\n",
       "      <td>MAPE</td>\n",
       "      <td>0.567900</td>\n",
       "      <td>0.566625</td>\n",
       "      <td>0.495705</td>\n",
       "      <td>0.456267</td>\n",
       "      <td>0.457859</td>\n",
       "    </tr>\n",
       "  </tbody>\n",
       "</table>\n",
       "</div>"
      ],
      "text/plain": [
       "  METRIC        UNIV     UNIV_SQ       MULTI      RANDOM          FI\n",
       "0   RMSE  223.584864  223.374941  203.164485  193.348686  194.824631\n",
       "1    MAE  137.198999  136.607250  120.209603  111.266443  111.708953\n",
       "2   MAPE    0.567900    0.566625    0.495705    0.456267    0.457859"
      ]
     },
     "execution_count": 83,
     "metadata": {},
     "output_type": "execute_result"
    }
   ],
   "source": [
    "table=[['RMSE',RMSE_uni,RMSE_uni_sq,RMSE_multi,RMSE_random,RMSE_fi],['MAE',MAE_uni, MAE_uni_sq,MAE_multi,MAE_random,MAE_fi],['MAPE',MAPE_uni,MAPE_uni_sq,MAPE_multi,MAPE_random,MAPEfi]]\n",
    "pd.DataFrame(table, columns=['METRIC','UNIV','UNIV_SQ','MULTI','RANDOM', 'FI'])"
   ]
  },
  {
   "cell_type": "markdown",
   "id": "176a80ef",
   "metadata": {},
   "source": [
    "<blockquote>As can be seen in the table above, the <b>RANDOM FOREST</b> model for all variables is the most suitable for predicting the listing price. With an average error of <b>+- 111.26 dollars </b> and with an average percentage error of <b>+- 45% </b>. This model stands out with the smallest metrics compared to the other models.</blockquote>"
   ]
  }
 ],
 "metadata": {
  "kernelspec": {
   "display_name": "Python 3",
   "language": "python",
   "name": "python3"
  },
  "language_info": {
   "codemirror_mode": {
    "name": "ipython",
    "version": 3
   },
   "file_extension": ".py",
   "mimetype": "text/x-python",
   "name": "python",
   "nbconvert_exporter": "python",
   "pygments_lexer": "ipython3",
   "version": "3.8.8"
  }
 },
 "nbformat": 4,
 "nbformat_minor": 5
}
